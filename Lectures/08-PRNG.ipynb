{
 "cells": [
  {
   "cell_type": "markdown",
   "metadata": {
    "deletable": false
   },
   "source": [
    "# [Introduction to Data Science](http://datascience-intro.github.io/1MS041-2022/)    \n",
    "## 1MS041, 2022 \n",
    "&copy;2022 Raazesh Sainudiin, Benny Avelin. [Attribution 4.0 International     (CC BY 4.0)](https://creativecommons.org/licenses/by/4.0/)"
   ]
  },
  {
   "cell_type": "markdown",
   "metadata": {},
   "source": [
    "# Linear Congruential Generators, and Pseudo-Random Numbers"
   ]
  },
  {
   "cell_type": "markdown",
   "metadata": {},
   "source": [
    "## What's this all about?\n",
    "\n",
    "### Question: \n",
    "\n",
    "How can we produce realisations from Uniform$(0,1)$, the **fundamental random variable**?\n",
    "\n",
    "i.e., how can we produce samples $(x_1, x_2, \\ldots, x_n)$ from $X_1, X_2, \\ldots, X_n$ $\\overset{IID}{\\thicksim}$ Uniform$(0,1)$?\n",
    "\n",
    "What is python doing when we ask for `random()`?"
   ]
  },
  {
   "cell_type": "markdown",
   "metadata": {},
   "source": [
    "## Linear Congruential Generators\n",
    "\n",
    "A linear congruential generator (LCG) is a simple *pseudo-random number generator (PRNG)* - a simple way of imitating samples or realizations from the Uniform$(0,1)$.  \n",
    "\n",
    "\"Pseudo-random\" means that the numbers are not really random [From Ancient Greek pseudo means “false, lying”)].\n",
    "\n",
    "We will look at what we mean by that as we find out about linear congruential generators. \n",
    "\n",
    "The theory behind LCGs is easy to understand, and they are easily implemented and fast.\n",
    "\n",
    "To make a LCG we need:\n",
    "\n",
    "- a modulus $m$ ($m > 0$)\n",
    "- an integer multiplier $a$ ($0 \\le a < m$)\n",
    "- an integer increment $c$ ($0 \\le c < m$)\n",
    "- an integer seed $x_0$ ($0 \\le x_0 < m$)\n",
    "- an integer sequence length $n$\n",
    "\n",
    "Using these inputs, the LCG generates numbers $x_1, x_2, \\ldots x_{n-1} $ where $x_{i+1}$ is calculated from $x_i$ as defined by the following recurrence relation:\n",
    "\n",
    "$$x_{i+1} \\gets mod \\left(a x_i + c , m \\right)$$\n",
    "\n",
    "In the above expression $\\gets$ denotes \"gets\" as in variable assignment.\n",
    "\n",
    "$x_0,x_1,\\ldots,x_{n-1}$ is the sequence of pseudo-random numbers called the linear congruential sequence.\n",
    "\n",
    "\n",
    "\n",
    "We can define a function parameterised by $(m,a,c,x_0,n)$ to give us a linear congruential sequence in the form of a list. \n",
    "\n",
    "(Remember about function parameters?  The function **parameters** here are `m`, `a`, `c`, `x0`, and `n`.  Note that the **return value** of the function is a list.  "
   ]
  },
  {
   "cell_type": "markdown",
   "metadata": {},
   "source": [
    "### Implementing the LCG\n",
    "\n",
    "Let's see how we can define a function for our LCG next.'"
   ]
  },
  {
   "cell_type": "code",
   "execution_count": 1,
   "metadata": {
    "scrolled": true
   },
   "outputs": [],
   "source": [
    "def linConGen(m, a, b, x0, n):\n",
    "    '''A linear congruential sequence generator.\n",
    "    \n",
    "    Param m is the integer modulus to use in the generator.\n",
    "    Param a is the integer multiplier.\n",
    "    Param b is the integer increment.\n",
    "    Param x0 is the integer seed.\n",
    "    Param n is the integer number of desired pseudo-random numbers.\n",
    "    \n",
    "    Returns a list of n pseudo-random integer modulo m numbers.'''\n",
    "    \n",
    "    x = x0 # the seed\n",
    "    retValue = [x % m]  # start the list with x=x0\n",
    "    for i in range(2, n+1, 1):\n",
    "        x = (a * x + b) % m # the generator, using modular arithmetic\n",
    "        retValue.append(x) # append the new x to the list\n",
    "    return retValue"
   ]
  },
  {
   "cell_type": "markdown",
   "metadata": {},
   "source": [
    "The function is merely implementing the pseudocode or algorithm of the linear congruential generator using a for-loop and modular arithmetic:  note that the generator produces integers modulo $m$.\n",
    "\n",
    "### Linear Congruential Generators:  the Good, the Bad, and the Ugly\n",
    "\n",
    "Are all linear congruential generators as good as each other?  What makes a good LCG?\n",
    "\n",
    "One desirable property of a LCG is to have the longest possible period.   \n",
    "\n",
    "The **period** is the length of sequence we can get before we get a repeat.  The longest possible period a LCG can have is $m$.  Lets look at an example.  "
   ]
  },
  {
   "cell_type": "markdown",
   "metadata": {},
   "source": [
    "We want an LCG with a **full period** of $m$ so that we can use it with any seed and not get stuck at fixed points or short periodic sequences. This is a minimal requirement for simulation purposes that we will employ such sequences for.  Is there anyway to know what makes a LCG with a full period?  \n",
    "\n",
    "It turns out that an LCG will have a full period if and only if:\n",
    "\n",
    "- $b$ and $m$ are relatively prime or coprime.  i.e. the **greatest common divisor (gcd)** of $b$ and $m$ is $1$; and\n",
    "- $a-1$ is divisible by all **prime factors** of $m$; and\n",
    "- $a-1$ is a multiple of 4 if $m$ is a multiple of 4.\n",
    "\n",
    "(Different conditions apply when $c=0$.  The Proposition and Proof for this are in Knuth, The Art of Computer Programming, vol. 2, section 3.3).\n",
    "\n",
    "Python has a function `gcd` which can calculate the greatest common divisor of two numbers:"
   ]
  },
  {
   "cell_type": "code",
   "execution_count": 2,
   "metadata": {},
   "outputs": [],
   "source": [
    "m = 2**8"
   ]
  },
  {
   "cell_type": "code",
   "execution_count": 3,
   "metadata": {},
   "outputs": [
    {
     "data": {
      "text/plain": [
       "1"
      ]
     },
     "execution_count": 3,
     "metadata": {},
     "output_type": "execute_result"
    }
   ],
   "source": [
    "from math import gcd\n",
    "b = 101\n",
    "gcd(101,m)"
   ]
  },
  {
   "cell_type": "code",
   "execution_count": 4,
   "metadata": {},
   "outputs": [
    {
     "data": {
      "text/plain": [
       "[2]"
      ]
     },
     "execution_count": 4,
     "metadata": {},
     "output_type": "execute_result"
    }
   ],
   "source": [
    "from sympy.ntheory import primefactors as prime_factors\n",
    "prime_factors(m)"
   ]
  },
  {
   "cell_type": "code",
   "execution_count": 5,
   "metadata": {
    "scrolled": true
   },
   "outputs": [],
   "source": [
    "k=5\n",
    "a = k*4+1"
   ]
  },
  {
   "cell_type": "code",
   "execution_count": 6,
   "metadata": {},
   "outputs": [
    {
     "data": {
      "text/plain": [
       "[2, 5]"
      ]
     },
     "execution_count": 6,
     "metadata": {},
     "output_type": "execute_result"
    }
   ],
   "source": [
    "prime_factors(a-1)"
   ]
  },
  {
   "cell_type": "code",
   "execution_count": 7,
   "metadata": {
    "scrolled": true
   },
   "outputs": [
    {
     "data": {
      "text/plain": [
       "0"
      ]
     },
     "execution_count": 7,
     "metadata": {},
     "output_type": "execute_result"
    }
   ],
   "source": [
    "(a-1) % 4"
   ]
  },
  {
   "cell_type": "code",
   "execution_count": 8,
   "metadata": {},
   "outputs": [
    {
     "data": {
      "text/plain": [
       "256"
      ]
     },
     "execution_count": 8,
     "metadata": {},
     "output_type": "execute_result"
    }
   ],
   "source": [
    "ourLCG = linConGen(m,a,b,1,256+1)\n",
    "len(set(ourLCG))"
   ]
  },
  {
   "cell_type": "markdown",
   "metadata": {},
   "source": [
    "Python can also help us to calculate **prime factors** with the `prime_factors` function:"
   ]
  },
  {
   "cell_type": "code",
   "execution_count": 9,
   "metadata": {},
   "outputs": [],
   "source": [
    "from sympy.ntheory import primefactors as prime_factors"
   ]
  },
  {
   "cell_type": "code",
   "execution_count": 10,
   "metadata": {
    "scrolled": true
   },
   "outputs": [
    {
     "data": {
      "text/plain": [
       "[2]"
      ]
     },
     "execution_count": 10,
     "metadata": {},
     "output_type": "execute_result"
    }
   ],
   "source": [
    "prime_factors(m)"
   ]
  },
  {
   "cell_type": "code",
   "execution_count": 11,
   "metadata": {
    "scrolled": true
   },
   "outputs": [
    {
     "data": {
      "text/plain": [
       "[2, 25504980841, 149674443424853]"
      ]
     },
     "execution_count": 11,
     "metadata": {},
     "output_type": "execute_result"
    }
   ],
   "source": [
    "prime_factors(7634887623876428376482746)"
   ]
  },
  {
   "cell_type": "markdown",
   "metadata": {},
   "source": [
    "$(m, a, c, x0, n) = (256, 137, 123, 13, 256)$ gives a linear congruential sequence with the longest possible period of 256.  Let us see how these parameters satisfy the above three requirements while those earlier with $m=17$, $a=2$, and $c=7$ do not."
   ]
  },
  {
   "cell_type": "code",
   "execution_count": 12,
   "metadata": {
    "scrolled": true
   },
   "outputs": [],
   "source": [
    "(m,a,c,x0,n)=(256, 137, 123, 13, 256) # faster way to assign a bunch of parameters"
   ]
  },
  {
   "cell_type": "code",
   "execution_count": 13,
   "metadata": {
    "scrolled": true
   },
   "outputs": [
    {
     "data": {
      "text/plain": [
       "1"
      ]
     },
     "execution_count": 13,
     "metadata": {},
     "output_type": "execute_result"
    }
   ],
   "source": [
    "gcd(c,m)         # checking if the greatest common divisor of c and m is indeed 1"
   ]
  },
  {
   "cell_type": "code",
   "execution_count": 14,
   "metadata": {
    "scrolled": true
   },
   "outputs": [
    {
     "data": {
      "text/plain": [
       "[2]"
      ]
     },
     "execution_count": 14,
     "metadata": {},
     "output_type": "execute_result"
    }
   ],
   "source": [
    "prime_factors(m)   # it is easy to get a list of all the prime factors of m"
   ]
  },
  {
   "cell_type": "code",
   "execution_count": 15,
   "metadata": {
    "scrolled": true
   },
   "outputs": [
    {
     "data": {
      "text/plain": [
       "0"
      ]
     },
     "execution_count": 15,
     "metadata": {},
     "output_type": "execute_result"
    }
   ],
   "source": [
    "(a-1) % 2             # checking if a-1=136 is divisible by 2, the only prime factors of m"
   ]
  },
  {
   "cell_type": "code",
   "execution_count": 16,
   "metadata": {
    "scrolled": true
   },
   "outputs": [
    {
     "data": {
      "text/plain": [
       "[0]"
      ]
     },
     "execution_count": 16,
     "metadata": {},
     "output_type": "execute_result"
    }
   ],
   "source": [
    "[ (a-1)%x for x in prime_factors(m) ]  \n",
    "# a list comprehension check for an m with more prime factors"
   ]
  },
  {
   "cell_type": "code",
   "execution_count": 17,
   "metadata": {
    "scrolled": true
   },
   "outputs": [
    {
     "data": {
      "text/plain": [
       "0"
      ]
     },
     "execution_count": 17,
     "metadata": {},
     "output_type": "execute_result"
    }
   ],
   "source": [
    "m % 4         # m is a multiple of 4 check"
   ]
  },
  {
   "cell_type": "code",
   "execution_count": 18,
   "metadata": {
    "scrolled": true
   },
   "outputs": [
    {
     "data": {
      "text/plain": [
       "0"
      ]
     },
     "execution_count": 18,
     "metadata": {},
     "output_type": "execute_result"
    }
   ],
   "source": [
    "(a-1) % 4       # if m is a multiple of 4 then a-1 is also a multiple of 4"
   ]
  },
  {
   "cell_type": "code",
   "execution_count": 19,
   "metadata": {
    "scrolled": true
   },
   "outputs": [
    {
     "data": {
      "text/plain": [
       "(256, 137, 123, 13, 256)"
      ]
     },
     "execution_count": 19,
     "metadata": {},
     "output_type": "execute_result"
    }
   ],
   "source": [
    "(m, a, c, x0, n)  # therefore these parameter values satisfy all conditions to have maximum period length m"
   ]
  },
  {
   "cell_type": "markdown",
   "metadata": {},
   "source": [
    "Thus, the parameters $(m,  a,  c,  x_0,  n) = (256, 137, 123, 13, 256)$  do indeed satisfy the three conditions to guarantee the longest possible period of 256.  \n",
    "\n",
    "In contrast, for the LCG example earlier with $m=17$, $a=2$, and $c=7$, although $m$ and $c$ are relatively prime, i.e., $gcd(m,c)=1$, we have the violation that $a-1=2-1=1$ is not divisible by the only prime factor $17$ of $m=17$.  Thus, we cannot get a period of maximal length $17$ in that example."
   ]
  },
  {
   "cell_type": "code",
   "execution_count": 20,
   "metadata": {
    "scrolled": true
   },
   "outputs": [
    {
     "data": {
      "text/plain": [
       "[1]"
      ]
     },
     "execution_count": 20,
     "metadata": {},
     "output_type": "execute_result"
    }
   ],
   "source": [
    "[ (2-1)%x for x in prime_factors(17) ]"
   ]
  },
  {
   "cell_type": "markdown",
   "metadata": {},
   "source": [
    "Let us see if the parameters $(m, a, c, x_0, n) = (256, 137, 123, 13, 256)$  that satisfy the three conditions to guarantee the longest possible period of 256 do indeed produce such a sequence:"
   ]
  },
  {
   "cell_type": "code",
   "execution_count": 21,
   "metadata": {
    "scrolled": true
   },
   "outputs": [
    {
     "name": "stdout",
     "output_type": "stream",
     "text": [
      "[13, 112, 107, 190, 41, 108, 71, 122, 197, 232, 163, 182, 225, 228, 127, 114, 125, 96, 219, 174, 153, 92, 183, 106, 53, 216, 19, 166, 81, 212, 239, 98, 237, 80, 75, 158, 9, 76, 39, 90, 165, 200, 131, 150, 193, 196, 95, 82, 93, 64, 187, 142, 121, 60, 151, 74, 21, 184, 243, 134, 49, 180, 207, 66, 205, 48, 43, 126, 233, 44, 7, 58, 133, 168, 99, 118, 161, 164, 63, 50, 61, 32, 155, 110, 89, 28, 119, 42, 245, 152, 211, 102, 17, 148, 175, 34, 173, 16, 11, 94, 201, 12, 231, 26, 101, 136, 67, 86, 129, 132, 31, 18, 29, 0, 123, 78, 57, 252, 87, 10, 213, 120, 179, 70, 241, 116, 143, 2, 141, 240, 235, 62, 169, 236, 199, 250, 69, 104, 35, 54, 97, 100, 255, 242, 253, 224, 91, 46, 25, 220, 55, 234, 181, 88, 147, 38, 209, 84, 111, 226, 109, 208, 203, 30, 137, 204, 167, 218, 37, 72, 3, 22, 65, 68, 223, 210, 221, 192, 59, 14, 249, 188, 23, 202, 149, 56, 115, 6, 177, 52, 79, 194, 77, 176, 171, 254, 105, 172, 135, 186, 5, 40, 227, 246, 33, 36, 191, 178, 189, 160, 27, 238, 217, 156, 247, 170, 117, 24, 83, 230, 145, 20, 47, 162, 45, 144, 139, 222, 73, 140, 103, 154, 229, 8, 195, 214, 1, 4, 159, 146, 157, 128, 251, 206, 185, 124, 215, 138, 85, 248, 51, 198, 113, 244, 15, 130]\n"
     ]
    }
   ],
   "source": [
    "(m,a,b,x0,n)=(256, 137, 123, 13, 256) # faster way to assign a bunch of parameters\n",
    "ourLcg = linConGen(m,a,b,x0,n)\n",
    "print(ourLcg)"
   ]
  },
  {
   "cell_type": "code",
   "execution_count": 22,
   "metadata": {
    "scrolled": true
   },
   "outputs": [
    {
     "name": "stdout",
     "output_type": "stream",
     "text": [
      "256\n"
     ]
    }
   ],
   "source": [
    "S = set(ourLcg)  # sort it in a set to see if it indeed has maximal period of 256\n",
    "print(len(S))"
   ]
  },
  {
   "cell_type": "code",
   "execution_count": 23,
   "metadata": {},
   "outputs": [
    {
     "data": {
      "image/png": "[encoded data removed]",
      "text/plain": [
       "<Figure size 640x480 with 1 Axes>"
      ]
     },
     "metadata": {},
     "output_type": "display_data"
    }
   ],
   "source": [
    "sample = linConGen(m,a,b,x0,256*10)\n",
    "from Utils import makeEDF\n",
    "from Utils import plotEDF\n",
    "plotEDF(makeEDF(sample))"
   ]
  },
  {
   "cell_type": "markdown",
   "metadata": {},
   "source": [
    "This looks pretty good, it seems to verify that it is indeed a pseudorandom sequence. Lets try to take this modulo $K$, where $M$ is divisible by $K$. For us, $M = 256$ so we can take for instance $K = 8$. Lets see what happens"
   ]
  },
  {
   "cell_type": "code",
   "execution_count": 24,
   "metadata": {},
   "outputs": [],
   "source": [
    "from math import floor"
   ]
  },
  {
   "cell_type": "code",
   "execution_count": 25,
   "metadata": {},
   "outputs": [
    {
     "data": {
      "image/png": "[encoded data removed]",
      "text/plain": [
       "<Figure size 640x480 with 1 Axes>"
      ]
     },
     "metadata": {},
     "output_type": "display_data"
    }
   ],
   "source": [
    "sample_8 = [floor((s / (256))*8) for s in sample]\n",
    "from Utils import plotEMF, makeEMF\n",
    "plotEMF(makeEMF(sample_8))"
   ]
  },
  {
   "cell_type": "markdown",
   "metadata": {},
   "source": [
    "It still retains the pseudo-randomness, but what is the period of the sequence `sample_8`?"
   ]
  },
  {
   "cell_type": "code",
   "execution_count": 26,
   "metadata": {},
   "outputs": [
    {
     "name": "stdout",
     "output_type": "stream",
     "text": [
      "256\n"
     ]
    }
   ],
   "source": [
    "for period in range(2,300):\n",
    "    found = True\n",
    "    for i in range(period):\n",
    "        if (sample_8[i] != sample_8[i+period]):\n",
    "            found = False\n",
    "            break\n",
    "    if found == True:\n",
    "        print(period)\n",
    "        break"
   ]
  },
  {
   "cell_type": "code",
   "execution_count": 27,
   "metadata": {},
   "outputs": [
    {
     "data": {
      "text/plain": [
       "<matplotlib.collections.PathCollection at 0x7f96b23a1460>"
      ]
     },
     "execution_count": 27,
     "metadata": {},
     "output_type": "execute_result"
    },
    {
     "data": {
      "image/png": "[encoded data removed]",
      "text/plain": [
       "<Figure size 640x480 with 1 Axes>"
      ]
     },
     "metadata": {},
     "output_type": "display_data"
    }
   ],
   "source": [
    "from matplotlib import pyplot as plt\n",
    "plt.scatter(sample_8[:-1],sample_8[1:],alpha=0.005)"
   ]
  },
  {
   "cell_type": "markdown",
   "metadata": {},
   "source": [
    "ourLcg is an example of a **good** LCG to some extent, but the plot above tells us that there is some issues. "
   ]
  },
  {
   "cell_type": "code",
   "execution_count": 28,
   "metadata": {},
   "outputs": [
    {
     "data": {
      "text/plain": [
       "<matplotlib.collections.PathCollection at 0x7f96926a36a0>"
      ]
     },
     "execution_count": 28,
     "metadata": {},
     "output_type": "execute_result"
    },
    {
     "data": {
      "image/png": "[encoded data removed]",
      "text/plain": [
       "<Figure size 640x480 with 1 Axes>"
      ]
     },
     "metadata": {},
     "output_type": "display_data"
    }
   ],
   "source": [
    "from random import randint\n",
    "sample_8_python = [randint(0,7) for i in range(256*10)]\n",
    "plt.scatter(sample_8_python[:-1],sample_8_python[1:],alpha=0.005)"
   ]
  },
  {
   "cell_type": "markdown",
   "metadata": {},
   "source": [
    "We can see that in section 3.3.4, Table 1, line 5 in The Art of Computer Programming, Knuth is giving an example of a particularly bad LCG.  \n",
    "\n",
    "When we introducted LCGs, we said that using an LCG was a simple way to imitate independent samples from the Uniform$(0, 1)$ RV, but clearly so far we have been generating sequences of integers.  How does that help?\n",
    "\n",
    "To get a simple pseudo-random Uniform$(0,1)$ generator, we scale the linear congruential sequence over [0, 1].  We can do this by dividing each element by the largest number in the sequence (256 in the case of `ourLcg`). \n",
    "\n",
    "**Important note:** The numbers in the list returned by our `linConGen` function are integers modulo $m$."
   ]
  },
  {
   "cell_type": "code",
   "execution_count": 29,
   "metadata": {},
   "outputs": [
    {
     "name": "stdout",
     "output_type": "stream",
     "text": [
      "[0.05078125, 0.4375, 0.41796875, 0.7421875, 0.16015625, 0.421875, 0.27734375, 0.4765625, 0.76953125, 0.90625, 0.63671875, 0.7109375, 0.87890625, 0.890625, 0.49609375, 0.4453125, 0.48828125, 0.375, 0.85546875, 0.6796875, 0.59765625, 0.359375, 0.71484375, 0.4140625, 0.20703125, 0.84375, 0.07421875, 0.6484375, 0.31640625, 0.828125, 0.93359375, 0.3828125, 0.92578125, 0.3125, 0.29296875, 0.6171875, 0.03515625, 0.296875, 0.15234375, 0.3515625, 0.64453125, 0.78125, 0.51171875, 0.5859375, 0.75390625, 0.765625, 0.37109375, 0.3203125, 0.36328125, 0.25, 0.73046875, 0.5546875, 0.47265625, 0.234375, 0.58984375, 0.2890625, 0.08203125, 0.71875, 0.94921875, 0.5234375, 0.19140625, 0.703125, 0.80859375, 0.2578125, 0.80078125, 0.1875, 0.16796875, 0.4921875, 0.91015625, 0.171875, 0.02734375, 0.2265625, 0.51953125, 0.65625, 0.38671875, 0.4609375, 0.62890625, 0.640625, 0.24609375, 0.1953125, 0.23828125, 0.125, 0.60546875, 0.4296875, 0.34765625, 0.109375, 0.46484375, 0.1640625, 0.95703125, 0.59375, 0.82421875, 0.3984375, 0.06640625, 0.578125, 0.68359375, 0.1328125, 0.67578125, 0.0625, 0.04296875, 0.3671875, 0.78515625, 0.046875, 0.90234375, 0.1015625, 0.39453125, 0.53125, 0.26171875, 0.3359375, 0.50390625, 0.515625, 0.12109375, 0.0703125, 0.11328125, 0.0, 0.48046875, 0.3046875, 0.22265625, 0.984375, 0.33984375, 0.0390625, 0.83203125, 0.46875, 0.69921875, 0.2734375, 0.94140625, 0.453125, 0.55859375, 0.0078125, 0.55078125, 0.9375, 0.91796875, 0.2421875, 0.66015625, 0.921875, 0.77734375, 0.9765625, 0.26953125, 0.40625, 0.13671875, 0.2109375, 0.37890625, 0.390625, 0.99609375, 0.9453125, 0.98828125, 0.875, 0.35546875, 0.1796875, 0.09765625, 0.859375, 0.21484375, 0.9140625, 0.70703125, 0.34375, 0.57421875, 0.1484375, 0.81640625, 0.328125, 0.43359375, 0.8828125, 0.42578125, 0.8125, 0.79296875, 0.1171875, 0.53515625, 0.796875, 0.65234375, 0.8515625, 0.14453125, 0.28125, 0.01171875, 0.0859375, 0.25390625, 0.265625, 0.87109375, 0.8203125, 0.86328125, 0.75, 0.23046875, 0.0546875, 0.97265625, 0.734375, 0.08984375, 0.7890625, 0.58203125, 0.21875, 0.44921875, 0.0234375, 0.69140625, 0.203125, 0.30859375, 0.7578125, 0.30078125, 0.6875, 0.66796875, 0.9921875, 0.41015625, 0.671875, 0.52734375, 0.7265625, 0.01953125, 0.15625, 0.88671875, 0.9609375, 0.12890625, 0.140625, 0.74609375, 0.6953125, 0.73828125, 0.625, 0.10546875, 0.9296875, 0.84765625, 0.609375, 0.96484375, 0.6640625, 0.45703125, 0.09375, 0.32421875, 0.8984375, 0.56640625, 0.078125, 0.18359375, 0.6328125, 0.17578125, 0.5625, 0.54296875, 0.8671875, 0.28515625, 0.546875, 0.40234375, 0.6015625, 0.89453125, 0.03125, 0.76171875, 0.8359375, 0.00390625, 0.015625, 0.62109375, 0.5703125, 0.61328125, 0.5, 0.98046875, 0.8046875, 0.72265625, 0.484375, 0.83984375, 0.5390625, 0.33203125, 0.96875, 0.19921875, 0.7734375, 0.44140625, 0.953125, 0.05859375, 0.5078125]\n"
     ]
    }
   ],
   "source": [
    "ourLcgScaled = [x/256 for x in ourLcg]\n",
    "print(ourLcgScaled)"
   ]
  },
  {
   "cell_type": "markdown",
   "metadata": {},
   "source": [
    "This is more like it!  We could have a look at this on a plot.  Again again want tuples (index, element in scaled sequence at index position), which we can get using `range(256)` (to get the indexes 0, .., 255) and `zip`:"
   ]
  },
  {
   "cell_type": "markdown",
   "metadata": {},
   "source": [
    "### Larger LCGs\n",
    "\n",
    "The above generators are cute but not useful for simulating Lotto draws with 40 outcomes.  Minimally, we need to increase the period length with a larger modulus $m$. \n",
    "\n",
    "But remember that the quality of the pseudo-random numbers obtained from a LCG is extremely sensitive to the choice of $m$, $a$, and $c$.  \n",
    "\n",
    "To illustrate that having a large $m$ alone is not enough we next look at **RANDU**, an infamous LCG which generates sequences with strong correlations between 3 consecutive points, which can been seen if we manipulate the sequence to make 3-dimensional tuples out of groups of 3 consecutive points.  \n",
    "\n",
    "In the cell below we make our scaled sequence in one step, using a list comprehension which contains the expression to generate the LCG and the scaling.   "
   ]
  },
  {
   "cell_type": "code",
   "execution_count": 30,
   "metadata": {},
   "outputs": [
    {
     "data": {
      "text/html": [
       "\n",
       "        <iframe\n",
       "            width=\"95%\"\n",
       "            height=\"600\"\n",
       "            src=\"https://en.wikipedia.org/wiki/RANDU\"\n",
       "            frameborder=\"0\"\n",
       "            allowfullscreen\n",
       "            \n",
       "        ></iframe>\n",
       "        "
      ],
      "text/plain": [
       "<IPython.lib.display.IFrame at 0x7f96926b4a30>"
      ]
     },
     "execution_count": 30,
     "metadata": {},
     "output_type": "execute_result"
    }
   ],
   "source": [
    "from Utils import showURL\n",
    "showURL('https://en.wikipedia.org/wiki/RANDU')"
   ]
  },
  {
   "cell_type": "code",
   "execution_count": 31,
   "metadata": {
    "scrolled": true
   },
   "outputs": [],
   "source": [
    "m, a, c, x0, n = 2147483648, 65539, 0, 1, 5010\n",
    "RANDU = [x/m for x in linConGen(m, a, c, x0, n)]"
   ]
  },
  {
   "cell_type": "markdown",
   "metadata": {},
   "source": [
    "Have a look at the results as a histogram:"
   ]
  },
  {
   "cell_type": "code",
   "execution_count": 32,
   "metadata": {},
   "outputs": [
    {
     "data": {
      "image/png": "[encoded data removed]",
      "text/plain": [
       "<Figure size 640x480 with 1 Axes>"
      ]
     },
     "metadata": {},
     "output_type": "display_data"
    }
   ],
   "source": [
    "_=plt.hist(RANDU,bins=40)"
   ]
  },
  {
   "cell_type": "markdown",
   "metadata": {},
   "source": [
    "Now we are going to use some of the array techniques we have learned about to resize the sequence from the RANDU LCG to an array with two columns"
   ]
  },
  {
   "cell_type": "code",
   "execution_count": 33,
   "metadata": {
    "scrolled": true
   },
   "outputs": [
    {
     "data": {
      "text/plain": [
       "[1,\n",
       " 65539,\n",
       " 393225,\n",
       " 1769499,\n",
       " 7077969,\n",
       " 26542323,\n",
       " 95552217,\n",
       " 334432395,\n",
       " 1146624417,\n",
       " 1722371299,\n",
       " 14608041,\n",
       " 1766175739,\n",
       " 1875647473,\n",
       " 1800754131,\n",
       " 366148473,\n",
       " 1022489195,\n",
       " 692115265,\n",
       " 1392739779,\n",
       " 2127401289,\n",
       " 229749723,\n",
       " 1559239569,\n",
       " 845238963,\n",
       " 1775695897,\n",
       " 899541067,\n",
       " 153401569,\n",
       " 1414474403,\n",
       " 663781353,\n",
       " 1989836731,\n",
       " 1670020913,\n",
       " 701529491,\n",
       " 2063890617,\n",
       " 1774610987,\n",
       " 662584961,\n",
       " 888912771,\n",
       " 1517695625,\n",
       " 1105958811,\n",
       " 1566426833,\n",
       " 1592415347,\n",
       " 1899101529,\n",
       " 1357838347,\n",
       " 1792534561,\n",
       " 682145891,\n",
       " 844966185,\n",
       " 1077967739,\n",
       " 1010594417,\n",
       " 656824147,\n",
       " 1288046073,\n",
       " 1816859115,\n",
       " 1456223681,\n",
       " 975544643,\n",
       " 1337189321,\n",
       " 1390717787,\n",
       " 604570129,\n",
       " 1848378931,\n",
       " 1354175129,\n",
       " 79574987,\n",
       " 1174775649,\n",
       " 2037511715,\n",
       " 1652089449,\n",
       " 164865851,\n",
       " 1152775601,\n",
       " 1137893651,\n",
       " 747348793,\n",
       " 685500843,\n",
       " 1681833217,\n",
       " 1774008067,\n",
       " 1950000393,\n",
       " 28897051,\n",
       " 1950731601,\n",
       " 706897907,\n",
       " 1717188569,\n",
       " 1793566603,\n",
       " 1749153441,\n",
       " 795272163,\n",
       " 1914153897,\n",
       " 32506619,\n",
       " 147523825,\n",
       " 592583379,\n",
       " 80302201,\n",
       " 1591013739,\n",
       " 233428033,\n",
       " 2113830083,\n",
       " 1992193609,\n",
       " 1518625499,\n",
       " 1919428753,\n",
       " 2143910323,\n",
       " 2031054105,\n",
       " 1481066315,\n",
       " 1344329185,\n",
       " 1178829219,\n",
       " 1416463593,\n",
       " 36802235,\n",
       " 357542961,\n",
       " 1814037651,\n",
       " 1223888313,\n",
       " 1754409259,\n",
       " 1658944385,\n",
       " 606433923,\n",
       " 1593005961,\n",
       " 1952646811,\n",
       " 1673794513,\n",
       " 1058880371,\n",
       " 2026549849,\n",
       " 481892107,\n",
       " 1832273185,\n",
       " 214159203,\n",
       " 1974365737,\n",
       " 1328827003,\n",
       " 941088625,\n",
       " 129539667,\n",
       " 897374969,\n",
       " 2070909163,\n",
       " 54112961,\n",
       " 1013848131,\n",
       " 1301104841,\n",
       " 829479515,\n",
       " 1856868113,\n",
       " 1528409395,\n",
       " 1048577945,\n",
       " 1125717707,\n",
       " 1612072033,\n",
       " 1688456483,\n",
       " 2064541545,\n",
       " 1486108219,\n",
       " 1073193649,\n",
       " 1654122515,\n",
       " 265992249,\n",
       " 1741236395,\n",
       " 1611037185,\n",
       " 437546499,\n",
       " 1010846217,\n",
       " 2127158811,\n",
       " 1517853265,\n",
       " 700108531,\n",
       " 1277390041,\n",
       " 1363363467,\n",
       " 978637729,\n",
       " 44006115,\n",
       " 46231721,\n",
       " 2028818939,\n",
       " 1019409905,\n",
       " 741990867,\n",
       " 1719707001,\n",
       " 1492840555,\n",
       " 2069614913,\n",
       " 1129608131,\n",
       " 1036016457,\n",
       " 344592859,\n",
       " 1333343633,\n",
       " 603758771,\n",
       " 212394521,\n",
       " 135505483,\n",
       " 1048965857,\n",
       " 779278499,\n",
       " 1677429225,\n",
       " 903585211,\n",
       " 1062066481,\n",
       " 387615635,\n",
       " 1357030073,\n",
       " 358672427,\n",
       " 676182145,\n",
       " 829041027,\n",
       " 1036090505,\n",
       " 902657435,\n",
       " 386097361,\n",
       " 635118195,\n",
       " 335832921,\n",
       " 593901067,\n",
       " 540910113,\n",
       " 47834723,\n",
       " 1861268265,\n",
       " 2147162491,\n",
       " 426527857,\n",
       " 414573907,\n",
       " 796176377,\n",
       " 1045893099,\n",
       " 1257254849,\n",
       " 277974851,\n",
       " 1089973705,\n",
       " 1890584923,\n",
       " 1533746193,\n",
       " 777147443,\n",
       " 1596587161,\n",
       " 437712331,\n",
       " 1141891425,\n",
       " 764453923,\n",
       " 752151657,\n",
       " 1927791931,\n",
       " 502419377,\n",
       " 696774419,\n",
       " 1806355769,\n",
       " 272197547,\n",
       " 408368897,\n",
       " 435459,\n",
       " 622259977,\n",
       " 1582157083,\n",
       " 1745119057,\n",
       " 526267891,\n",
       " 336437721,\n",
       " 1577182603,\n",
       " 2140188833,\n",
       " 793973219,\n",
       " 534525353,\n",
       " 356360443,\n",
       " 1622401777,\n",
       " 84715731,\n",
       " 939063929,\n",
       " 576974699,\n",
       " 1452723777,\n",
       " 1376086723,\n",
       " 1624457289,\n",
       " 1656930523,\n",
       " 1763918481,\n",
       " 2113587123,\n",
       " 1101223705,\n",
       " 469960011,\n",
       " 1498681313,\n",
       " 467480483,\n",
       " 54169321,\n",
       " 412658875,\n",
       " 1988429361,\n",
       " 1774195347,\n",
       " 1339242425,\n",
       " 657631019,\n",
       " 482538881,\n",
       " 1271521411,\n",
       " 1138794889,\n",
       " 1831527579,\n",
       " 740011473,\n",
       " 841222515,\n",
       " 534715481,\n",
       " 2079741195,\n",
       " 1223556897,\n",
       " 1508572515,\n",
       " 186906665,\n",
       " 429189243,\n",
       " 892975473,\n",
       " 1495149651,\n",
       " 934118649,\n",
       " 738299627,\n",
       " 317697217,\n",
       " 1703937603,\n",
       " 921899721,\n",
       " 933378139,\n",
       " 1598138641,\n",
       " 1188428595,\n",
       " 1337258393,\n",
       " 1622660299,\n",
       " 1995603553,\n",
       " 1664645923,\n",
       " 617378153,\n",
       " 1607357499,\n",
       " 1940257969,\n",
       " 1470297619,\n",
       " 2096882233,\n",
       " 1496098475,\n",
       " 842068993,\n",
       " 177462275,\n",
       " 2076087305,\n",
       " 121945115,\n",
       " 1374237777,\n",
       " 705469683,\n",
       " 454612697,\n",
       " 673416331,\n",
       " 2096467361,\n",
       " 75606243,\n",
       " 912784041,\n",
       " 501280763,\n",
       " 1235079153,\n",
       " 751464403,\n",
       " 1983008633,\n",
       " 839904875,\n",
       " 77253441,\n",
       " 1494311363,\n",
       " 1828136265,\n",
       " 1814982619,\n",
       " 879120273,\n",
       " 1824779955,\n",
       " 889113625,\n",
       " 1796564043,\n",
       " 629877985,\n",
       " 495093411,\n",
       " 1596625897,\n",
       " 828947387,\n",
       " 1341469489,\n",
       " 588290451,\n",
       " 46451897,\n",
       " 1426548267,\n",
       " 1698771585,\n",
       " 1648662403,\n",
       " 1045481097,\n",
       " 24859547,\n",
       " 1477245649,\n",
       " 49803379,\n",
       " 2035994969,\n",
       " 1030321163,\n",
       " 742874145,\n",
       " 1626805347,\n",
       " 927481129,\n",
       " 1661056891,\n",
       " 1619011185,\n",
       " 1207006035,\n",
       " 1260870137,\n",
       " 997133803,\n",
       " 1077422529,\n",
       " 1785298243,\n",
       " 1014986697,\n",
       " 759654235,\n",
       " 1865496081,\n",
       " 61121075,\n",
       " 757130905,\n",
       " 1845212107,\n",
       " 2109610849,\n",
       " 345723427,\n",
       " 267712105,\n",
       " 642245435,\n",
       " 1444063665,\n",
       " 736689427,\n",
       " 13498169,\n",
       " 2040718763,\n",
       " 1385410817,\n",
       " 683414275,\n",
       " 221722889,\n",
       " 1622059803,\n",
       " 1294401873,\n",
       " 1757807603,\n",
       " 1044712409,\n",
       " 1185424267,\n",
       " 2005101217,\n",
       " 1361788899,\n",
       " 862240681,\n",
       " 1507278587,\n",
       " 1283505393,\n",
       " 577976019,\n",
       " 506242169,\n",
       " 2130636139,\n",
       " 1785186369,\n",
       " 125327555,\n",
       " 1865157193,\n",
       " 1473060571,\n",
       " 641883281,\n",
       " 1331172787,\n",
       " 62603545,\n",
       " 1279968075,\n",
       " 673925601,\n",
       " 1113775523,\n",
       " 617322729,\n",
       " 122407611,\n",
       " 1620992049,\n",
       " 34349203,\n",
       " 649552313,\n",
       " 1440687403,\n",
       " 650669953,\n",
       " 1675251331,\n",
       " 2047994761,\n",
       " 1505673883,\n",
       " 1339508689,\n",
       " 928438131,\n",
       " 2104985177,\n",
       " 2126484235,\n",
       " 256489761,\n",
       " 1727933283,\n",
       " 1616740905,\n",
       " 591496827,\n",
       " 1883214705,\n",
       " 1680849491,\n",
       " 1726099193,\n",
       " 1671400683,\n",
       " 935962305,\n",
       " 1310585923,\n",
       " 1587338441,\n",
       " 2023724635,\n",
       " 3785489,\n",
       " 1136544051,\n",
       " 342743961,\n",
       " 417501899,\n",
       " 1567799393,\n",
       " 1354311971,\n",
       " 458128233,\n",
       " 1297379899,\n",
       " 1513641649,\n",
       " 1700398099,\n",
       " 874581049,\n",
       " 681321643,\n",
       " 511667713,\n",
       " 1233078787,\n",
       " 645979657,\n",
       " 1368103451,\n",
       " 247320145,\n",
       " 2055891699,\n",
       " 1519534297,\n",
       " 1351598731,\n",
       " 876234657,\n",
       " 1682953955,\n",
       " 64128169,\n",
       " 270568955,\n",
       " 1046260209,\n",
       " 1694957011,\n",
       " 753400185,\n",
       " 3206251,\n",
       " 1828570433,\n",
       " 205148099,\n",
       " 1953623881,\n",
       " 1285475803,\n",
       " 867658129,\n",
       " 79117491,\n",
       " 1255716377,\n",
       " 379789899,\n",
       " 1714710241,\n",
       " 427701411,\n",
       " 18718185,\n",
       " 557963707,\n",
       " 1031834929,\n",
       " 1169336211,\n",
       " 2024470201,\n",
       " 1622795307,\n",
       " 106474625,\n",
       " 1066075523,\n",
       " 1143214217,\n",
       " 1559572891,\n",
       " 1215993041,\n",
       " 1849736819,\n",
       " 154483545,\n",
       " 1459139083,\n",
       " 922031649,\n",
       " 989872739,\n",
       " 1935918889,\n",
       " 559175035,\n",
       " 964165745,\n",
       " 752419155,\n",
       " 131990521,\n",
       " 462621675,\n",
       " 1587815361,\n",
       " 1068329795,\n",
       " 709575113,\n",
       " 1084933467,\n",
       " 123424785,\n",
       " 1713565747,\n",
       " 580636825,\n",
       " 946631115,\n",
       " 454055265,\n",
       " 647102499,\n",
       " 1943601257,\n",
       " 1542717755,\n",
       " 353829809,\n",
       " 1123420947,\n",
       " 1408573753,\n",
       " 488137643,\n",
       " 989080321,\n",
       " 1541243139,\n",
       " 345735945,\n",
       " 1088129307,\n",
       " 1269668689,\n",
       " 2119815667,\n",
       " 1291875801,\n",
       " 1557815691,\n",
       " 2014979233,\n",
       " 217017827,\n",
       " 347163049,\n",
       " 129817851,\n",
       " 1949406961,\n",
       " 1938146515,\n",
       " 526667385,\n",
       " 749071211,\n",
       " 1901904449,\n",
       " 374818499,\n",
       " 164156489,\n",
       " 1906539739,\n",
       " 1371895441,\n",
       " 1809933235,\n",
       " 660024089,\n",
       " 555647307,\n",
       " 1688634337,\n",
       " 836012963,\n",
       " 555786985,\n",
       " 105572539,\n",
       " 2073803313,\n",
       " 755248787,\n",
       " 899648441,\n",
       " 748135211,\n",
       " 686942593,\n",
       " 1683405955,\n",
       " 1770468745,\n",
       " 1914609819,\n",
       " 1995891153,\n",
       " 1186309491,\n",
       " 2039738457,\n",
       " 1561645323,\n",
       " 1749644065,\n",
       " 738023779,\n",
       " 1566247977,\n",
       " 607790203,\n",
       " 287927665,\n",
       " 552421459,\n",
       " 723179769,\n",
       " 1514769131,\n",
       " 432513217,\n",
       " 1847059011,\n",
       " 747284169,\n",
       " 745075803,\n",
       " 2039864593,\n",
       " 1238538035,\n",
       " 1957348761,\n",
       " 597250251,\n",
       " 999748193,\n",
       " 623236899,\n",
       " 1184138601,\n",
       " 1495699515,\n",
       " 464433329,\n",
       " 62722579,\n",
       " 491402809,\n",
       " 236429995,\n",
       " 1290921985,\n",
       " 1322694659,\n",
       " 612837385,\n",
       " 362706971,\n",
       " 955672657,\n",
       " 322189555,\n",
       " 1922018009,\n",
       " 42467467,\n",
       " 136511905,\n",
       " 436864227,\n",
       " 1392578217,\n",
       " 128723963,\n",
       " 1124041713,\n",
       " 1290767315,\n",
       " 1923195769,\n",
       " 2069752427,\n",
       " 1552203585,\n",
       " 1422867907,\n",
       " 1009826121,\n",
       " 1843080155,\n",
       " 1970045841,\n",
       " 1675004595,\n",
       " 909549593,\n",
       " 1119674443,\n",
       " 679583969,\n",
       " 442884771,\n",
       " 836020201,\n",
       " 1030158267,\n",
       " 804251441,\n",
       " 1996535187,\n",
       " 445980857,\n",
       " 1886937643,\n",
       " 865347201,\n",
       " 1094546307,\n",
       " 926636681,\n",
       " 3870619,\n",
       " 273428177,\n",
       " 1605733491,\n",
       " 731096409,\n",
       " 672395275,\n",
       " 1749471265,\n",
       " 150302819,\n",
       " 188961065,\n",
       " 1928524667,\n",
       " 1280563825,\n",
       " 1064079187,\n",
       " 1301851641,\n",
       " 381880811,\n",
       " 1312038337,\n",
       " 140335427,\n",
       " 1918569417,\n",
       " 1658463067,\n",
       " 1273588241,\n",
       " 1305296435,\n",
       " 664451737,\n",
       " 828977099,\n",
       " 1141280609,\n",
       " 1534373411,\n",
       " 1082198633,\n",
       " 1273765691,\n",
       " 50290097,\n",
       " 1722751251,\n",
       " 1293962041,\n",
       " 848945579,\n",
       " 2037949697,\n",
       " 292220675,\n",
       " 591645961,\n",
       " 919889691,\n",
       " 194524497,\n",
       " 1478074355,\n",
       " 675274713,\n",
       " 1486397323,\n",
       " 693427873,\n",
       " 1520409571,\n",
       " 734122921,\n",
       " 1458469627,\n",
       " 2143711473,\n",
       " 1883525843,\n",
       " 597686393,\n",
       " 1666771307,\n",
       " 326483009,\n",
       " 1990341827,\n",
       " 413769289,\n",
       " 1749408475,\n",
       " 330076305,\n",
       " 1268167091,\n",
       " 343348505,\n",
       " 1384005451,\n",
       " 918928865,\n",
       " 1647458723,\n",
       " 1614392553,\n",
       " 1301677755,\n",
       " 1870468145,\n",
       " 1655192723,\n",
       " 1686877625,\n",
       " 1666982187,\n",
       " 1262445441,\n",
       " 1161767555,\n",
       " 2051047305,\n",
       " 1850375835,\n",
       " 1232763857,\n",
       " 1480618867,\n",
       " 2083805785,\n",
       " 1324748555,\n",
       " 2079141153,\n",
       " 552109923,\n",
       " 1780258345,\n",
       " 1417593467,\n",
       " 1073170289,\n",
       " 123131475,\n",
       " 1817674489,\n",
       " 1207929067,\n",
       " 1625922241,\n",
       " 1031655491,\n",
       " 146567369,\n",
       " 184439387,\n",
       " 1935013649,\n",
       " 1360192819,\n",
       " 1483452313,\n",
       " 953945803,\n",
       " 962538593,\n",
       " 1484686627,\n",
       " 245272425,\n",
       " 994356795,\n",
       " 1611205297,\n",
       " 718020627,\n",
       " 544694329,\n",
       " 1100947627,\n",
       " 1703436801,\n",
       " 312092163,\n",
       " 1574007305,\n",
       " 192763419,\n",
       " 2022900305,\n",
       " 1812596467,\n",
       " 1259410649,\n",
       " 1980513931,\n",
       " 548387745,\n",
       " 498086627,\n",
       " 200513705,\n",
       " 1015269883,\n",
       " 2139512305,\n",
       " 1552161235,\n",
       " 794774905,\n",
       " 1536616555,\n",
       " 2066725185,\n",
       " 718285763,\n",
       " 741573449,\n",
       " 132352475,\n",
       " 562404753,\n",
       " 35772595,\n",
       " 1595443737,\n",
       " 660774475,\n",
       " 343071457,\n",
       " 406425763,\n",
       " 1498395113,\n",
       " 1037571515,\n",
       " 1329807665,\n",
       " 788186003,\n",
       " 1350781625,\n",
       " 1011015723,\n",
       " 351510657,\n",
       " 1599857027,\n",
       " 2140578953,\n",
       " 592244123,\n",
       " 1468123345,\n",
       " 1331059315,\n",
       " 1215696729,\n",
       " 1757097483,\n",
       " 1748797985,\n",
       " 1121361507,\n",
       " 1726405417,\n",
       " 266178939,\n",
       " 1091810417,\n",
       " 2007768403,\n",
       " 72833017,\n",
       " 1694435307,\n",
       " 921180097,\n",
       " 1014581059,\n",
       " 2091832777,\n",
       " 1272283483,\n",
       " 1692107793,\n",
       " 849579059,\n",
       " 605922457,\n",
       " 284290507,\n",
       " 547408225,\n",
       " 725834787,\n",
       " 1575818345,\n",
       " 774913339,\n",
       " 1204533169,\n",
       " 252978963,\n",
       " 1414493497,\n",
       " 1915183019,\n",
       " 908140289,\n",
       " 1097096451,\n",
       " 556799753,\n",
       " 2056865051,\n",
       " 887541585,\n",
       " 1845849587,\n",
       " 939739609,\n",
       " 1910693259,\n",
       " 859019425,\n",
       " 842779107,\n",
       " 1620467113,\n",
       " 2137790715,\n",
       " 390023921,\n",
       " 279896275,\n",
       " 316646009,\n",
       " 1528293227,\n",
       " 2024977985,\n",
       " 542712515,\n",
       " 63858761,\n",
       " 1941190875,\n",
       " 334998161,\n",
       " 1719140275,\n",
       " 857407257,\n",
       " 409599307,\n",
       " 1183381473,\n",
       " 1266411427,\n",
       " 1243002601,\n",
       " 355280059,\n",
       " 1682075185,\n",
       " 452479635,\n",
       " 461103033,\n",
       " 841785131,\n",
       " 900783489,\n",
       " 2123602051,\n",
       " 339593609,\n",
       " 105012379,\n",
       " 1868699089,\n",
       " 1677148531,\n",
       " 1834533977,\n",
       " 207834379,\n",
       " 1916069665,\n",
       " 1035973987,\n",
       " 1856118825,\n",
       " 1812947067,\n",
       " 615063921,\n",
       " 258761811,\n",
       " 311962873,\n",
       " 1690404587,\n",
       " 892310721,\n",
       " 877641283,\n",
       " 1530018505,\n",
       " 1281339483,\n",
       " 360321297,\n",
       " 1367290675,\n",
       " 665885081,\n",
       " 279629003,\n",
       " 2127259233,\n",
       " 1656959779,\n",
       " 1533843817,\n",
       " 732875835,\n",
       " 1330078897,\n",
       " 1384590867,\n",
       " 631802425,\n",
       " 2066914987,\n",
       " 272817153,\n",
       " 214537219,\n",
       " 979352585,\n",
       " 1797796891,\n",
       " 1972608081,\n",
       " 2097927411,\n",
       " 1276542681,\n",
       " 1662811275,\n",
       " 635467169,\n",
       " 1732403427,\n",
       " 380248745,\n",
       " 1722247163,\n",
       " 468793329,\n",
       " 197437395,\n",
       " 1260451705,\n",
       " 1490806379,\n",
       " 1895740225,\n",
       " 104667587,\n",
       " 746212681,\n",
       " 1387784155,\n",
       " 1610790801,\n",
       " 1469654707,\n",
       " 763261977,\n",
       " 2090097739,\n",
       " 1376261345,\n",
       " 184106659,\n",
       " 1603189737,\n",
       " 1519727547,\n",
       " 1132108593,\n",
       " 1705038227,\n",
       " 41252025,\n",
       " 2082037291,\n",
       " 1383537281,\n",
       " 300306307,\n",
       " 87420553,\n",
       " 2116733851,\n",
       " 1176199889,\n",
       " 891496563,\n",
       " 1205631321,\n",
       " 1357802507,\n",
       " 1591100449,\n",
       " 1621347427,\n",
       " 1850631465,\n",
       " 806629243,\n",
       " 1068994161,\n",
       " 1301785427,\n",
       " 337248761,\n",
       " 1044841963,\n",
       " 1086329281,\n",
       " 1409365315,\n",
       " 826712009,\n",
       " 865918811,\n",
       " 2050072081,\n",
       " 212195891,\n",
       " 2395801,\n",
       " 252095435,\n",
       " 1491010401,\n",
       " 234752547,\n",
       " 874323561,\n",
       " 985684795,\n",
       " 192680369,\n",
       " 874853651,\n",
       " 1367514937,\n",
       " 331406763,\n",
       " 418224385,\n",
       " 1674169091,\n",
       " 1986027785,\n",
       " 1143612187,\n",
       " 1872324945,\n",
       " 941439987,\n",
       " 1682617305,\n",
       " 1622743947,\n",
       " 1035358881,\n",
       " 197392355,\n",
       " 456058793,\n",
       " 959821563,\n",
       " 1654400241,\n",
       " 1288007379,\n",
       " 1428376697,\n",
       " 1273161067,\n",
       " 1226027073,\n",
       " 192680131,\n",
       " 859255369,\n",
       " 1273927387,\n",
       " 2057749649,\n",
       " 881151411,\n",
       " 1799547161,\n",
       " 719436619,\n",
       " 1005597153,\n",
       " 1706136995,\n",
       " 1186447593,\n",
       " 353387195,\n",
       " 32229425,\n",
       " 1307859091,\n",
       " 1114638777,\n",
       " 1359551787,\n",
       " 273045377,\n",
       " 139724419,\n",
       " 528421769,\n",
       " 1913010843,\n",
       " 279818193,\n",
       " 1641680755,\n",
       " 889269849,\n",
       " 1297910539,\n",
       " 1931518241,\n",
       " 2055398243,\n",
       " 1391176233,\n",
       " 585891451,\n",
       " 1732180849,\n",
       " 825094739,\n",
       " 98359033,\n",
       " 1754236139,\n",
       " 1050250945,\n",
       " 1250798659,\n",
       " 200017097,\n",
       " 680332891,\n",
       " 134359825,\n",
       " 1125613875,\n",
       " 1249477529,\n",
       " 1661307595,\n",
       " 870031457,\n",
       " 1005838627,\n",
       " 352232297,\n",
       " 1650780731,\n",
       " 292142769,\n",
       " 1928215571,\n",
       " 350073913,\n",
       " 1926372523,\n",
       " 1965118977,\n",
       " 895812099,\n",
       " 573703689,\n",
       " 1822364187,\n",
       " 1475884625,\n",
       " 1043964659,\n",
       " 1570760921,\n",
       " 28883595,\n",
       " 1068838817,\n",
       " 1858113251,\n",
       " 1529130153,\n",
       " 1041696251,\n",
       " 1077940721,\n",
       " 1387345363,\n",
       " 770089337,\n",
       " 724362347,\n",
       " 1710337345,\n",
       " 1595279299,\n",
       " 621090633,\n",
       " 106448347,\n",
       " 1491325329,\n",
       " 1547465907,\n",
       " 157834777,\n",
       " 2052201035,\n",
       " 155274977,\n",
       " 1789193379,\n",
       " 747750889,\n",
       " 1268666811,\n",
       " 882242865,\n",
       " 317906835,\n",
       " 409706169,\n",
       " 1744559147,\n",
       " 337548417,\n",
       " 1356643715,\n",
       " 806959241,\n",
       " 1221896603,\n",
       " 68746449,\n",
       " 152827507,\n",
       " 298247001,\n",
       " 414034443,\n",
       " 1947467297,\n",
       " 1516042851,\n",
       " 158986025,\n",
       " 194432379,\n",
       " 1883203697,\n",
       " 959396179,\n",
       " 1692445689,\n",
       " 1520108523,\n",
       " 331090881,\n",
       " 1190470467,\n",
       " 2015521225,\n",
       " 1378893147,\n",
       " 871086097,\n",
       " 1406412851,\n",
       " 598702233,\n",
       " 1671915979,\n",
       " 348208481,\n",
       " 2074392611,\n",
       " 722544745,\n",
       " 698120507,\n",
       " 1980787633,\n",
       " 1306673939,\n",
       " 750373177,\n",
       " 1332108203,\n",
       " 1239290625,\n",
       " 1889220867,\n",
       " 181709577,\n",
       " 1267138843,\n",
       " 1672479569,\n",
       " 778111475,\n",
       " 353770969,\n",
       " 1562073483,\n",
       " 1893534881,\n",
       " 1597515235,\n",
       " 1133212073,\n",
       " 1011569915,\n",
       " 165478129,\n",
       " 478674131,\n",
       " 1382741625,\n",
       " 1840898923,\n",
       " 748202561,\n",
       " 806026947,\n",
       " 249822281,\n",
       " 687142107,\n",
       " 1874452113,\n",
       " 767466419,\n",
       " 619631385,\n",
       " 1105557835,\n",
       " 1056664545,\n",
       " 684934051,\n",
       " 1042074345,\n",
       " 88039611,\n",
       " 1886986801,\n",
       " 1939629715,\n",
       " 1097348025,\n",
       " 2012322603,\n",
       " 50319745,\n",
       " 1518367875,\n",
       " 67394953,\n",
       " 1771444379,\n",
       " 1432177105,\n",
       " 1239997811,\n",
       " 992843865,\n",
       " 1239533835,\n",
       " ...]"
      ]
     },
     "execution_count": 33,
     "metadata": {},
     "output_type": "execute_result"
    }
   ],
   "source": [
    "import numpy as np\n",
    "m, a, c, x0, n = 2147483648, 65539, 0, 1, 5010\n",
    "randu = np.array(linConGen(m, a, c, x0, n))\n",
    "linConGen(m, a, c, x0, n)"
   ]
  },
  {
   "cell_type": "code",
   "execution_count": 34,
   "metadata": {
    "scrolled": true
   },
   "outputs": [
    {
     "data": {
      "text/plain": [
       "(5010,)"
      ]
     },
     "execution_count": 34,
     "metadata": {},
     "output_type": "execute_result"
    }
   ],
   "source": [
    "randu.shape"
   ]
  },
  {
   "cell_type": "code",
   "execution_count": 35,
   "metadata": {
    "scrolled": true
   },
   "outputs": [],
   "source": [
    "randu.resize(5010//2, 2) # resize the randu array to 2 columns"
   ]
  },
  {
   "cell_type": "code",
   "execution_count": 36,
   "metadata": {
    "scrolled": true
   },
   "outputs": [
    {
     "data": {
      "text/plain": [
       "(2505, 2)"
      ]
     },
     "execution_count": 36,
     "metadata": {},
     "output_type": "execute_result"
    }
   ],
   "source": [
    "randu.shape"
   ]
  },
  {
   "cell_type": "code",
   "execution_count": 37,
   "metadata": {},
   "outputs": [
    {
     "data": {
      "text/plain": [
       "<matplotlib.collections.PathCollection at 0x7f96b20a09d0>"
      ]
     },
     "execution_count": 37,
     "metadata": {},
     "output_type": "execute_result"
    },
    {
     "data": {
      "image/png": "[encoded data removed]",
      "text/plain": [
       "<Figure size 640x480 with 1 Axes>"
      ]
     },
     "metadata": {},
     "output_type": "display_data"
    }
   ],
   "source": [
    "plt.scatter(randu[:,0],randu[:,1])"
   ]
  }
 ],
 "metadata": {
  "kernelspec": {
   "display_name": "Python 3 (ipykernel)",
   "language": "python",
   "name": "python3"
  },
  "language_info": {
   "codemirror_mode": {
    "name": "ipython",
    "version": 3
   },
   "file_extension": ".py",
   "mimetype": "text/x-python",
   "name": "python",
   "nbconvert_exporter": "python",
   "pygments_lexer": "ipython3",
   "version": "3.9.13"
  },
  "lx_course_instance": "2022",
  "lx_course_name": "Introduction to Data Science",
  "lx_course_number": "1MS041"
 },
 "nbformat": 4,
 "nbformat_minor": 4
}
