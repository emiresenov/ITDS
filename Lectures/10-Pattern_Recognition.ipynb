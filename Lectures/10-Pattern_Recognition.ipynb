{
 "cells": [
  {
   "cell_type": "markdown",
   "metadata": {
    "deletable": false
   },
   "source": [
    "# [Introduction to Data Science](http://datascience-intro.github.io/1MS041-2022/)    \n",
    "## 1MS041, 2022 \n",
    "&copy;2022 Raazesh Sainudiin, Benny Avelin. [Attribution 4.0 International     (CC BY 4.0)](https://creativecommons.org/licenses/by/4.0/)"
   ]
  },
  {
   "cell_type": "markdown",
   "metadata": {},
   "source": [
    "# Pattern Recognition"
   ]
  },
  {
   "cell_type": "markdown",
   "metadata": {},
   "source": [
    "Traditionally the machine learning started in principle with a single algorithm called the perceptron algorithm. The ideas come from computer science and as such the focus and terminology is different, but let us stick to the terminology used in the book \"Foundations of Data Science\" Chap 5.\n",
    "\n",
    "Let us say that we are trying to device a decision rule based on input data being in $\\mathbb{R}^d$, it could be binary or other. This input could be for instance the words being used in an email, where we have some form of dictionary where each word is represented by a dimension. The simplest form of decision problem is that of a binary decision, like in the case of logistic regression (the decision could be the most likely output). A commonly chosen example is that of email spam classification.\n",
    "\n",
    "> Goal: find a \"simple\" rule that performs well on training data\n",
    "\n",
    "## The perceptron algorithm\n",
    "\n",
    "The perceptron algorithm tries to find a linear separator, i.e. a plane in $\\mathbb{R}$ that separates the two classes. The task is thus to find $w$ and $t$ such that for the training data $S$, the data consists of pairs $(x_i,l_i)$ the $x_i$ represents our features and the $l_i$ our labels or target.\n",
    "\n",
    "$$\n",
    "\\begin{aligned}\n",
    "    w \\cdot x_i > t \\quad \\text{for each $x_i$ labeled $+1$} \\\\\n",
    "    w \\cdot x_i < t \\quad \\text{for each $x_i$ labeled $-1$}\n",
    "\\end{aligned}\n",
    "$$\n",
    "\n",
    "Adding a new coordinate to our space allows us to consider $\\hat x_i = (x_i,1)$ and $\\hat w = (w,t)$, this allows us to rewrite the inequalities above as\n",
    "\n",
    "$$\n",
    "    (\\hat w \\cdot \\hat x_i) l_i > 0.\n",
    "$$\n",
    "\n",
    "### The algorithm\n",
    "1. $w = 0$\n",
    "2. while there exists $x_i$ with $x_i l_i \\cdot w \\leq 0$, update $w := w+x_il_i$"
   ]
  },
  {
   "cell_type": "code",
   "execution_count": 1,
   "metadata": {},
   "outputs": [
    {
     "data": {
      "text/plain": [
       "array([[ 1.47746939e-01,  8.53725316e-01,  1.00000000e+00],\n",
       "       [-1.75551743e-01,  8.97971070e-01,  1.00000000e+00],\n",
       "       [ 5.22721648e-01,  7.44828195e-01,  1.00000000e+00],\n",
       "       [-5.07117051e-01,  8.00202740e-01,  1.00000000e+00],\n",
       "       [-3.94369682e-01,  1.01776894e+00,  1.00000000e+00],\n",
       "       [-3.98306578e-01,  1.04436632e+00,  1.00000000e+00],\n",
       "       [-8.65277162e-02,  4.80368208e-01,  1.00000000e+00],\n",
       "       [ 1.53525412e-01,  6.82080798e-01,  1.00000000e+00],\n",
       "       [-3.30334853e-01,  1.12067388e+00,  1.00000000e+00],\n",
       "       [-2.65622086e-01,  8.52663828e-01,  1.00000000e+00],\n",
       "       [-5.18570900e-02,  1.03210213e+00,  1.00000000e+00],\n",
       "       [-3.20092068e-01,  5.41936551e-01,  1.00000000e+00],\n",
       "       [ 1.94428755e-01,  9.09102968e-01,  1.00000000e+00],\n",
       "       [-3.68882464e-01,  6.82778314e-01,  1.00000000e+00],\n",
       "       [ 1.93998215e-01,  1.13024824e+00,  1.00000000e+00],\n",
       "       [ 4.23117918e-01,  5.27776195e-01,  1.00000000e+00],\n",
       "       [ 4.93974176e-01,  7.02098176e-01,  1.00000000e+00],\n",
       "       [-4.09972698e-01,  5.40387243e-01,  1.00000000e+00],\n",
       "       [ 1.14022146e-01,  6.74883826e-01,  1.00000000e+00],\n",
       "       [-3.27659658e-01,  6.45934791e-01,  1.00000000e+00],\n",
       "       [-1.23418301e-01,  7.86599961e-01,  1.00000000e+00],\n",
       "       [-3.45755168e-01,  7.58412466e-01,  1.00000000e+00],\n",
       "       [ 1.89660402e-01,  1.02731833e+00,  1.00000000e+00],\n",
       "       [-1.27462526e-01,  5.28374906e-01,  1.00000000e+00],\n",
       "       [-2.24435988e-01,  8.67368693e-01,  1.00000000e+00],\n",
       "       [-4.54818820e-01,  7.39611325e-01,  1.00000000e+00],\n",
       "       [-3.17303965e-01,  4.40664922e-01,  1.00000000e+00],\n",
       "       [-1.44418255e-01,  6.56612767e-01,  1.00000000e+00],\n",
       "       [ 2.85977207e-01,  7.70081429e-01,  1.00000000e+00],\n",
       "       [ 2.33538515e-01,  7.41109773e-01,  1.00000000e+00],\n",
       "       [-5.84428783e-03,  9.50729590e-01,  1.00000000e+00],\n",
       "       [-9.71263958e-02,  9.07179255e-01,  1.00000000e+00],\n",
       "       [-1.97316586e-01,  8.26846752e-01,  1.00000000e+00],\n",
       "       [-5.27357159e-01,  8.70552033e-01,  1.00000000e+00],\n",
       "       [ 1.07612326e-01,  2.18482983e-01,  1.00000000e+00],\n",
       "       [ 2.06442914e-01,  7.13470281e-01,  1.00000000e+00],\n",
       "       [ 1.05378533e-01,  5.66498224e-01,  1.00000000e+00],\n",
       "       [-2.73202585e-01,  3.67911653e-01,  1.00000000e+00],\n",
       "       [-5.50455643e-01,  8.31850238e-01,  1.00000000e+00],\n",
       "       [-5.64295719e-01,  7.05864640e-01,  1.00000000e+00],\n",
       "       [-2.59811116e-01,  1.04226399e+00,  1.00000000e+00],\n",
       "       [ 6.35802614e-02,  1.28289423e+00,  1.00000000e+00],\n",
       "       [ 1.22068870e-01,  6.43048489e-01,  1.00000000e+00],\n",
       "       [-5.58138674e-02,  4.29005976e-01,  1.00000000e+00],\n",
       "       [ 5.06230997e-01,  6.80567207e-01,  1.00000000e+00],\n",
       "       [ 1.10704252e-01,  5.68457607e-01,  1.00000000e+00],\n",
       "       [ 3.79614171e-01,  6.73624665e-01,  1.00000000e+00],\n",
       "       [ 3.70736915e-01,  9.21819303e-01,  1.00000000e+00],\n",
       "       [-3.56338340e-02,  5.53151972e-01,  1.00000000e+00],\n",
       "       [-2.12679936e-01,  4.90404011e-01,  1.00000000e+00],\n",
       "       [-9.35205850e-02,  1.11977241e+00,  1.00000000e+00],\n",
       "       [ 4.99949290e-01,  8.74805399e-01,  1.00000000e+00],\n",
       "       [ 2.43644774e-01,  5.25113695e-01,  1.00000000e+00],\n",
       "       [-3.33284801e-01,  1.02465597e+00,  1.00000000e+00],\n",
       "       [ 4.70618133e-01,  6.43242206e-01,  1.00000000e+00],\n",
       "       [-7.75175797e-02,  7.21379827e-01,  1.00000000e+00],\n",
       "       [-4.63014122e-01,  7.13631688e-01,  1.00000000e+00],\n",
       "       [-5.93850501e-02,  1.32141960e+00,  1.00000000e+00],\n",
       "       [-1.88437640e-01,  3.91140147e-01,  1.00000000e+00],\n",
       "       [-4.14904914e-01,  4.84355421e-01,  1.00000000e+00],\n",
       "       [-7.77241354e-02,  1.11110147e+00,  1.00000000e+00],\n",
       "       [ 5.66400082e-02,  6.20737596e-01,  1.00000000e+00],\n",
       "       [-8.69715669e-02,  1.00935436e+00,  1.00000000e+00],\n",
       "       [ 2.41809354e-01,  3.74109724e-01,  1.00000000e+00],\n",
       "       [-6.52048624e-01,  7.33693277e-01,  1.00000000e+00],\n",
       "       [-5.24800083e-03,  1.36247892e+00,  1.00000000e+00],\n",
       "       [ 2.32088899e-01,  9.52261831e-01,  1.00000000e+00],\n",
       "       [-4.38138482e-01,  8.06322014e-01,  1.00000000e+00],\n",
       "       [ 3.80103723e-01,  8.86423981e-01,  1.00000000e+00],\n",
       "       [-4.55828126e-01,  5.47289839e-01,  1.00000000e+00],\n",
       "       [ 7.42406367e-02,  3.37115121e-01,  1.00000000e+00],\n",
       "       [-1.06691056e-01,  3.30184394e-01,  1.00000000e+00],\n",
       "       [ 3.43924756e-01,  8.46022281e-01,  1.00000000e+00],\n",
       "       [ 2.56394116e-02,  4.82215320e-01,  1.00000000e+00],\n",
       "       [-1.29996720e-01,  3.27233018e-01,  1.00000000e+00],\n",
       "       [-2.23868683e-01,  8.17248308e-01,  1.00000000e+00],\n",
       "       [-1.34687949e-02,  2.30890283e-01,  1.00000000e+00],\n",
       "       [ 4.44833175e-01,  6.85073001e-01,  1.00000000e+00],\n",
       "       [ 2.04585282e-01,  3.15425264e-01,  1.00000000e+00],\n",
       "       [-4.27438915e-01,  7.67656725e-01,  1.00000000e+00],\n",
       "       [ 5.25444650e-01,  8.39594089e-01,  1.00000000e+00],\n",
       "       [ 9.28480985e-02,  5.89505762e-01,  1.00000000e+00],\n",
       "       [ 5.00190713e-02,  1.12899364e+00,  1.00000000e+00],\n",
       "       [-6.05912021e-02,  1.90884949e-01,  1.00000000e+00],\n",
       "       [-1.61887750e-03,  1.17790669e+00,  1.00000000e+00],\n",
       "       [ 7.98725870e-02,  3.65113951e-01,  1.00000000e+00],\n",
       "       [-2.40338793e-01,  8.49603240e-01,  1.00000000e+00],\n",
       "       [-2.93439899e-01,  4.28591785e-01,  1.00000000e+00],\n",
       "       [ 2.27438781e-01,  5.28790525e-01,  1.00000000e+00],\n",
       "       [-3.12512343e-02,  3.57703012e-01,  1.00000000e+00],\n",
       "       [ 4.71159856e-01,  5.90953148e-01,  1.00000000e+00],\n",
       "       [ 1.70852209e-01,  1.17056845e+00,  1.00000000e+00],\n",
       "       [ 3.47240953e-01,  8.41491935e-01,  1.00000000e+00],\n",
       "       [-6.70946156e-01,  7.49635178e-01,  1.00000000e+00],\n",
       "       [-1.82171461e-03,  4.32713400e-01,  1.00000000e+00],\n",
       "       [-2.66546171e-01,  4.87534610e-01,  1.00000000e+00],\n",
       "       [ 3.04553335e-01,  4.06444015e-01,  1.00000000e+00],\n",
       "       [-1.03917208e-01,  2.08622464e-01,  1.00000000e+00],\n",
       "       [-3.59779513e-01,  4.47855999e-01,  1.00000000e+00],\n",
       "       [ 1.98026392e-01,  4.32444409e-01,  1.00000000e+00],\n",
       "       [ 1.37918491e-01, -2.97364112e-02,  1.00000000e+00],\n",
       "       [ 4.69772798e-01, -3.62905764e-01,  1.00000000e+00],\n",
       "       [ 4.73853045e-01,  1.43249062e-01,  1.00000000e+00],\n",
       "       [ 7.99804765e-01,  2.51228564e-02,  1.00000000e+00],\n",
       "       [ 7.37741603e-01, -2.10506524e-01,  1.00000000e+00],\n",
       "       [ 5.84056937e-01, -3.61679408e-01,  1.00000000e+00],\n",
       "       [ 7.94948356e-01,  3.34609855e-01,  1.00000000e+00],\n",
       "       [ 3.01519010e-01,  1.43073668e-02,  1.00000000e+00],\n",
       "       [ 5.46229724e-01,  1.31896009e-01,  1.00000000e+00],\n",
       "       [ 5.73158713e-02, -1.44491342e-02,  1.00000000e+00],\n",
       "       [ 4.76638645e-01, -2.46799689e-01,  1.00000000e+00],\n",
       "       [ 1.07813023e+00,  4.64588837e-02,  1.00000000e+00],\n",
       "       [ 9.35451597e-01,  4.70944560e-02,  1.00000000e+00],\n",
       "       [ 3.44540762e-01, -2.79068044e-01,  1.00000000e+00],\n",
       "       [ 6.09103086e-01, -8.30434833e-02,  1.00000000e+00],\n",
       "       [ 5.52406958e-01, -3.62593802e-01,  1.00000000e+00],\n",
       "       [ 7.72510844e-01,  3.79765499e-01,  1.00000000e+00],\n",
       "       [ 5.12401911e-01,  6.78784880e-02,  1.00000000e+00],\n",
       "       [ 8.92032627e-01, -5.02342597e-01,  1.00000000e+00],\n",
       "       [ 6.34494048e-01,  3.58312340e-01,  1.00000000e+00],\n",
       "       [ 8.68794091e-01, -3.86979381e-03,  1.00000000e+00],\n",
       "       [ 3.60127890e-01,  2.29976612e-01,  1.00000000e+00],\n",
       "       [ 2.12699065e-01,  1.35954738e-01,  1.00000000e+00],\n",
       "       [ 5.78128312e-01, -4.91096597e-01,  1.00000000e+00],\n",
       "       [ 9.42436338e-01,  4.54966118e-01,  1.00000000e+00],\n",
       "       [ 1.06283001e+00, -3.81396315e-01,  1.00000000e+00],\n",
       "       [ 1.00292431e+00, -1.08213933e-01,  1.00000000e+00],\n",
       "       [ 9.70687554e-01,  2.41387419e-01,  1.00000000e+00],\n",
       "       [ 7.43133995e-01,  4.28445665e-01,  1.00000000e+00],\n",
       "       [ 6.78131819e-01,  5.47925850e-01,  1.00000000e+00],\n",
       "       [ 8.28666001e-01, -1.98048219e-01,  1.00000000e+00],\n",
       "       [ 8.35756906e-01, -1.84697524e-01,  1.00000000e+00],\n",
       "       [ 6.67117988e-01, -5.06683826e-01,  1.00000000e+00],\n",
       "       [ 1.01091307e+00,  2.21559261e-01,  1.00000000e+00],\n",
       "       [ 8.47018894e-01, -5.35416266e-01,  1.00000000e+00],\n",
       "       [ 8.52730313e-01,  4.25736385e-01,  1.00000000e+00],\n",
       "       [ 3.19887975e-01, -2.39458010e-01,  1.00000000e+00],\n",
       "       [ 8.33894938e-01, -2.47818167e-01,  1.00000000e+00],\n",
       "       [ 8.92662788e-01, -2.17953329e-01,  1.00000000e+00],\n",
       "       [ 6.84569495e-01, -9.40477786e-02,  1.00000000e+00],\n",
       "       [ 8.77657941e-01,  3.96139583e-01,  1.00000000e+00],\n",
       "       [ 1.06604827e+00,  4.95291286e-02,  1.00000000e+00],\n",
       "       [ 8.45649133e-01, -4.91828538e-01,  1.00000000e+00],\n",
       "       [ 1.29572064e+00, -7.58128260e-02,  1.00000000e+00],\n",
       "       [ 7.94779138e-01,  8.35581862e-03,  1.00000000e+00],\n",
       "       [ 6.55521983e-01,  4.22272575e-01,  1.00000000e+00],\n",
       "       [ 5.35323001e-01,  2.19635168e-01,  1.00000000e+00],\n",
       "       [ 1.76320186e-01, -7.31998436e-02,  1.00000000e+00],\n",
       "       [ 8.13335838e-01, -1.18669711e-01,  1.00000000e+00],\n",
       "       [ 1.07173638e+00,  4.67003358e-02,  1.00000000e+00],\n",
       "       [ 7.89674349e-01, -6.70766309e-01,  1.00000000e+00],\n",
       "       [ 8.89672565e-01, -7.37068430e-02,  1.00000000e+00],\n",
       "       [ 8.79514710e-01, -1.11342958e-01,  1.00000000e+00],\n",
       "       [ 1.04363447e+00,  1.84687273e-01,  1.00000000e+00],\n",
       "       [ 7.33260678e-01,  2.33090412e-02,  1.00000000e+00],\n",
       "       [ 5.87222975e-01, -4.60657944e-01,  1.00000000e+00],\n",
       "       [ 4.12992461e-01, -2.68552861e-01,  1.00000000e+00],\n",
       "       [ 1.34304646e-01, -1.31298652e-01,  1.00000000e+00],\n",
       "       [ 3.36825859e-01, -3.04545048e-02,  1.00000000e+00],\n",
       "       [ 8.03593425e-01,  2.80279963e-03,  1.00000000e+00],\n",
       "       [ 9.62140659e-01, -2.73827095e-01,  1.00000000e+00],\n",
       "       [ 9.45059095e-01, -3.86358768e-01,  1.00000000e+00],\n",
       "       [ 9.52733551e-01, -1.71016734e-01,  1.00000000e+00],\n",
       "       [ 6.67662302e-01, -2.85270273e-01,  1.00000000e+00],\n",
       "       [ 1.24256320e+00, -1.54107059e-01,  1.00000000e+00],\n",
       "       [ 5.18330059e-01,  2.41716916e-01,  1.00000000e+00],\n",
       "       [ 7.74170654e-01, -7.04794523e-01,  1.00000000e+00],\n",
       "       [ 7.73315458e-01,  2.74352859e-01,  1.00000000e+00],\n",
       "       [ 5.91164277e-01,  4.64788106e-01,  1.00000000e+00],\n",
       "       [ 9.58219460e-01,  7.65686304e-02,  1.00000000e+00],\n",
       "       [ 1.08911137e+00,  2.39405767e-01,  1.00000000e+00],\n",
       "       [ 6.86509583e-01,  1.25912919e-01,  1.00000000e+00],\n",
       "       [ 4.62598317e-01,  3.20073903e-01,  1.00000000e+00],\n",
       "       [ 1.02711130e+00,  3.63289434e-01,  1.00000000e+00],\n",
       "       [ 8.01778998e-01, -6.06222375e-01,  1.00000000e+00],\n",
       "       [ 1.50112200e-01,  2.05481169e-02,  1.00000000e+00],\n",
       "       [ 6.85126340e-01,  3.41830286e-01,  1.00000000e+00],\n",
       "       [ 7.98255170e-01, -4.17565073e-02,  1.00000000e+00],\n",
       "       [ 3.68566115e-01, -3.59099060e-01,  1.00000000e+00],\n",
       "       [ 1.01923104e+00,  3.93481255e-01,  1.00000000e+00],\n",
       "       [ 1.02046251e+00, -2.10315120e-01,  1.00000000e+00],\n",
       "       [ 8.25145803e-01,  4.76594541e-01,  1.00000000e+00],\n",
       "       [ 7.73203248e-01,  1.02657781e-01,  1.00000000e+00],\n",
       "       [ 4.10951653e-01,  5.30033717e-02,  1.00000000e+00],\n",
       "       [ 5.58405996e-01, -1.42547447e-04,  1.00000000e+00],\n",
       "       [ 5.18011535e-01,  4.15860222e-01,  1.00000000e+00],\n",
       "       [ 5.82154141e-01,  2.71041274e-01,  1.00000000e+00],\n",
       "       [ 9.66957982e-01,  2.00283752e-02,  1.00000000e+00],\n",
       "       [ 4.48279658e-01, -3.52840623e-02,  1.00000000e+00],\n",
       "       [ 8.44111317e-01, -2.95079394e-01,  1.00000000e+00],\n",
       "       [ 7.83282095e-01,  4.96955806e-01,  1.00000000e+00],\n",
       "       [ 6.71445419e-01,  5.82232853e-01,  1.00000000e+00],\n",
       "       [ 5.12003162e-01,  2.79789879e-02,  1.00000000e+00],\n",
       "       [ 1.03596864e+00, -4.18415879e-01,  1.00000000e+00],\n",
       "       [ 8.33158992e-01, -2.49961690e-01,  1.00000000e+00],\n",
       "       [ 1.19007932e+00, -1.72566096e-01,  1.00000000e+00],\n",
       "       [ 4.34809461e-01, -3.15702063e-01,  1.00000000e+00],\n",
       "       [ 6.39394639e-01,  5.44280133e-02,  1.00000000e+00],\n",
       "       [ 6.14125558e-01,  1.41970302e-01,  1.00000000e+00],\n",
       "       [ 5.33144826e-01,  1.65942764e-01,  1.00000000e+00]])"
      ]
     },
     "execution_count": 1,
     "metadata": {},
     "output_type": "execute_result"
    }
   ],
   "source": [
    "import numpy as np\n",
    "\n",
    "def gen_data(n_points=5,sep=1):\n",
    "    np.random.seed(3)\n",
    "    W = np.array([[1,-1],[1,1]])/np.sqrt(2)\n",
    "    rnd_pos_1 = np.random.uniform(0,1,size=(n_points,2))\n",
    "    X1 = (rnd_pos_1 + np.array([-1-sep,0]))@W\n",
    "    rnd_pos_2 = np.random.uniform(0,1,size=(n_points,2))\n",
    "    X2 = (rnd_pos_2 + np.array([+sep,0]))@W\n",
    "    \n",
    "    Xall = np.concatenate([X1,X2],axis=0)\n",
    "    y1 = np.ones(shape=n_points)\n",
    "    y2 = -np.ones(shape=n_points)\n",
    "    yall = np.concatenate([y1,y2])\n",
    "\n",
    "    X = np.concatenate([Xall,np.ones((n_points*2,1))],axis=1)\n",
    "    return X,X1,X2,Xall,yall\n",
    "X, X1, X2, Xall, yall = gen_data(n_points=100,sep=0.05)\n",
    "X"
   ]
  },
  {
   "cell_type": "code",
   "execution_count": 2,
   "metadata": {},
   "outputs": [
    {
     "data": {
      "text/plain": [
       "<matplotlib.collections.PathCollection at 0x7f9da0f354f0>"
      ]
     },
     "execution_count": 2,
     "metadata": {},
     "output_type": "execute_result"
    },
    {
     "data": {
      "image/png": "[encoded data removed]",
      "text/plain": [
       "<Figure size 800x800 with 1 Axes>"
      ]
     },
     "metadata": {},
     "output_type": "display_data"
    }
   ],
   "source": [
    "%matplotlib inline\n",
    "import matplotlib.pyplot as plt\n",
    "plt.figure(figsize=(8,8))\n",
    "plt.scatter(X1[:,0],X1[:,1], color='red')\n",
    "plt.scatter(X2[:,0],X2[:,1], color='blue')"
   ]
  },
  {
   "cell_type": "code",
   "execution_count": 3,
   "metadata": {},
   "outputs": [
    {
     "data": {
      "application/vnd.jupyter.widget-view+json": {
       "model_id": "669642a6ebfe4b9c90792e5109090c46",
       "version_major": 2,
       "version_minor": 0
      },
      "text/plain": [
       "interactive(children=(IntSlider(value=0, description='n_steps', max=63), Output()), _dom_classes=('widget-inte…"
      ]
     },
     "metadata": {},
     "output_type": "display_data"
    }
   ],
   "source": [
    "from ipywidgets import interact, IntSlider\n",
    "\n",
    "@interact\n",
    "def _(n_steps=IntSlider(0,0,63,1)):\n",
    "    n_points = X.shape[0]\n",
    "    W = np.array([0,0,0])\n",
    "    plt.scatter(X1[:,0],X1[:,1],color='blue')\n",
    "    plt.scatter(X2[:,0],X2[:,1],color='red')\n",
    "    \n",
    "    k = 0\n",
    "    max_iter=10000\n",
    "    j = 0\n",
    "    while ((k < n_steps) and (j < max_iter)):\n",
    "        i = j % n_points\n",
    "        j+=1\n",
    "        if (X[i,:]@W * yall[i] <= 0):\n",
    "            W = W + X[i,:]*yall[i]\n",
    "            plt.scatter(X[i,0],X[i,1],color='yellow')\n",
    "            k+=1\n",
    "    print(W)\n",
    "    \n",
    "    # Plotting the line\n",
    "    x_left = -2\n",
    "    x_right = 2\n",
    "    y_left = 0\n",
    "    y_right = 0\n",
    "    if (W[1] != 0):\n",
    "        y_left = (-W[2] - x_left*W[0])/W[1]\n",
    "        y_right = (-W[2] - x_right*W[0])/W[1]\n",
    "    plt.plot([x_left,x_right],[y_left,y_right])\n",
    "    plt.xlim(-1,2)\n",
    "    plt.ylim(-1,2)\n",
    "    plt.show()"
   ]
  },
  {
   "cell_type": "code",
   "execution_count": null,
   "metadata": {},
   "outputs": [],
   "source": []
  },
  {
   "cell_type": "markdown",
   "metadata": {},
   "source": [
    "### Theorem: Perceptron for linearly separable data\n",
    "> If there exists $w^\\ast$ such that $w^\\ast \\cdot x_i l_i \\geq 1$ for all $i$. Then the perceptron algorithm find a $w$ satisfying $w \\cdot x_i l_i \\geq 0$ for all $i$ in at most $r^2|w^\\ast|^2$ updates, where $r = \\max_i |x_i|$.\n",
    "\n",
    "So this theorem guarantees that if the two classes can be separated then the preceptron will also find a separator in finite time.\n",
    "\n",
    "### Kernels\n",
    "\n",
    "What about non-linearly separable data. Take for instance\n",
    "$$\n",
    "    X = (B_4 \\setminus B_3) \\cup B_1\n",
    "$$\n",
    "and let $c^\\ast = B_1$. We cannot separate these sets using a linear classifier"
   ]
  },
  {
   "cell_type": "code",
   "execution_count": 4,
   "metadata": {},
   "outputs": [
    {
     "data": {
      "text/plain": [
       "<matplotlib.collections.PathCollection at 0x7f9d70080bb0>"
      ]
     },
     "execution_count": 4,
     "metadata": {},
     "output_type": "execute_result"
    },
    {
     "data": {
      "image/png": "[encoded data removed]",
      "text/plain": [
       "<Figure size 640x480 with 1 Axes>"
      ]
     },
     "metadata": {},
     "output_type": "display_data"
    }
   ],
   "source": [
    "A = np.random.normal(size=(100,2))\n",
    "A_unit = A/(np.linalg.norm(A,axis=1).reshape(-1,1))\n",
    "radial_A = 3+np.random.uniform(size=(100,1))\n",
    "#P=points(A_unit*radial_A,color='blue')\n",
    "plt.scatter((A_unit*radial_A)[:,0],(A_unit*radial_A)[:,1])\n",
    "\n",
    "B = np.random.normal(size=(100,2))\n",
    "B_unit = B/(np.linalg.norm(B,axis=1).reshape(-1,1))\n",
    "radial_B = np.random.uniform(size=(100,1))\n",
    "plt.scatter((B_unit*radial_B)[:,0],(B_unit*radial_B)[:,1],color='red')"
   ]
  },
  {
   "cell_type": "markdown",
   "metadata": {},
   "source": [
    "we can however separate the following mapping of $X$. Namely in $\\mathbb R^2$ we can do\n",
    "$$\n",
    "    \\phi(x) = (x_1,x_2,x_1^2+x_2^2) \\in \\mathbb R^3\n",
    "$$\n",
    "This is clearly linearly separable as we can see in the following 3d plot"
   ]
  },
  {
   "cell_type": "code",
   "execution_count": 5,
   "metadata": {},
   "outputs": [
    {
     "ename": "KeyError",
     "evalue": "'Utils'",
     "output_type": "error",
     "traceback": [
      "\u001b[0;31m---------------------------------------------------------------------------\u001b[0m",
      "\u001b[0;31mKeyError\u001b[0m                                  Traceback (most recent call last)",
      "\u001b[0;32m/var/folders/xp/123p26351jv0y5pbxcbx1rhc0000gn/T/ipykernel_3446/4236672385.py\u001b[0m in \u001b[0;36m<module>\u001b[0;34m\u001b[0m\n\u001b[1;32m      1\u001b[0m \u001b[0;32mimport\u001b[0m \u001b[0msys\u001b[0m\u001b[0;34m,\u001b[0m \u001b[0mimportlib\u001b[0m\u001b[0;34m\u001b[0m\u001b[0;34m\u001b[0m\u001b[0m\n\u001b[0;32m----> 2\u001b[0;31m \u001b[0mimportlib\u001b[0m\u001b[0;34m.\u001b[0m\u001b[0mreload\u001b[0m\u001b[0;34m(\u001b[0m\u001b[0msys\u001b[0m\u001b[0;34m.\u001b[0m\u001b[0mmodules\u001b[0m\u001b[0;34m[\u001b[0m\u001b[0;34m'Utils'\u001b[0m\u001b[0;34m]\u001b[0m\u001b[0;34m)\u001b[0m\u001b[0;34m\u001b[0m\u001b[0;34m\u001b[0m\u001b[0m\n\u001b[0m",
      "\u001b[0;31mKeyError\u001b[0m: 'Utils'"
     ]
    }
   ],
   "source": [
    "import sys, importlib\n",
    "importlib.reload(sys.modules['Utils'])"
   ]
  },
  {
   "cell_type": "code",
   "execution_count": null,
   "metadata": {},
   "outputs": [],
   "source": [
    "A_2d = A_unit*radial_A\n",
    "A_3d = np.concatenate([A_2d,np.linalg.norm(A_2d,axis=1).reshape(-1,1)**2],axis=1)\n",
    "B_2d = B_unit*radial_B\n",
    "B_3d = np.concatenate([B_2d,np.linalg.norm(B_2d,axis=1).reshape(-1,1)**2],axis=1)\n",
    "\n",
    "from Utils import scatter3d\n",
    "fig = scatter3d(A_3d[:,0],A_3d[:,1],A_3d[:,2])\n",
    "fig = scatter3d(B_3d[:,0],B_3d[:,1],B_3d[:,2],fig=fig,c='red')\n",
    "fig.show()"
   ]
  },
  {
   "cell_type": "markdown",
   "metadata": {},
   "source": [
    "> Remember the extra dimension that we always add to simplify notation. Therefore the full $\\phi$ in the above examples is $\\hat \\phi(x) = (x_1,x_2,x_1^2+x_2^2,1)$.\n",
    "\n",
    "So if we transform the $x \\to \\phi(x)$ for some good transformation $\\phi$ then our perceptron will try to solve\n",
    "$$\n",
    "    w \\cdot \\phi(x_i)l_i > 0\n",
    "$$\n",
    "furthermore, remember how we constructed $w$ using the perceptron algorithms, i.e. using additions of $x_i l_i$, which transforms into $\\phi(x_i)l_i$, and we start with $w=0$, this gives that the weight has the form\n",
    "$$\n",
    "    w = \\sum_{i=1}^n c_i \\phi(x_i)\n",
    "$$\n",
    "for numbers $c_i$. The perceptron algorithm becomes just addition and subtraction of certain $c_i$'s by 1."
   ]
  },
  {
   "cell_type": "markdown",
   "metadata": {},
   "source": [
    "Furthermore\n",
    "$$\n",
    "    w \\cdot \\phi(x_i) = \\sum_{i=1}^n c_j \\phi(x_j) \\cdot \\phi(x_i) = \\sum_{i=1}^n c_i k_{ij}\n",
    "$$\n",
    "where $k_{ij} = \\phi(x_i) \\cdot \\phi(x_j)$."
   ]
  },
  {
   "cell_type": "markdown",
   "metadata": {},
   "source": [
    "Is it easy to find such a mapping $\\phi$? No, it is actually quite difficult. Furthermore, if the mapping $\\phi$ is high dimensional we might need to do alot of computation, which is not so efficient. What if we had a function $k(x,y)$ that could be written as\n",
    "$$\n",
    "    k(x,y) = \\phi(x) \\cdot \\phi(y)\n",
    "$$\n",
    "for some $\\phi$ and $k$ is easier to compute, then our life would be simpler. Also, what if we are given a function $k(x,y)$ and we would like to know if it is a \"kernel function\".\n",
    "\n",
    "### Lemma\n",
    "If $k_{ij}$ is symmetric and positive semidefinite, then there is a mapping $\\phi$ such that\n",
    "$k_{ij} = \\phi(x_i)\\phi(x_j)$.\n",
    "\n",
    "### Proof\n",
    "1. $k = Q \\Lambda Q^T$ (eigendecomposition)\n",
    "2. $k$ is positive definite, all eigenvalues $\\geq 0$, so we can define $B = Q \\Lambda^{1/2}$.\n",
    "3. $k = B B^T$\n",
    "4. define $\\phi(x_i) = B_{i\\cdot}$, i.e. the $i$:th row of $B$, then $k_{ij} = \\phi(x_i)\\cdot \\phi(x_j)$.\n",
    "\n",
    "\n",
    "We now have a way to identify whenever a matrix $k$ is a kernel matrix. There are some standard choices of kernel functions one could try, that produces positive semi-definite matrices whenever all points $x_i$ are distinct.\n",
    "1. $k(x,y) = e^{-\\gamma |x-y|}$, called Radial Basis Function\n",
    "2. $k(x,y) = (\\gamma x \\cdot y + r)^d$, polynomial\n",
    "3. $k(x,y) = x \\cdot y$, linear\n",
    "4. $k(x,y) = \\tanh(\\gamma x \\cdot y + r)$, sigmoidal\n",
    "\n",
    "\n",
    "### Definition\n",
    "> We call a function $k(x,y)$ a kernel function if there is a mapping $\\phi$ such that $k(x,y) = \\phi(x) \\cdot \\phi(y)$.\n",
    "\n",
    "### Theorem (properties)\n",
    "Suppose $k_1,k_2$ are kernel functions. Then\n",
    "1. For any constant $c \\geq 0$, $c k_1$ is a kernel function.\n",
    "2. For any scalar function $f$, $k(x,y) = f(x)f(y)k_1(x,y)$ is a kernel function.\n",
    "3. $k_1 + k_2$ is a kernel function.\n",
    "4. $k_1k_2$ is a kernel function."
   ]
  },
  {
   "cell_type": "markdown",
   "metadata": {},
   "source": [
    "## Let me cheat a bit\n",
    "\n",
    "As we have noted, the perceptron converges in finite time if the set is linearly separable. The way to solve this problem is to introduce a \"cost function\" that penalizes misses in classification, the goal is then to minimize the total cost. The perceptron becomes the Support Vector Machine in this case, the loss is the so called \"hinge loss\"\n",
    "$$\n",
    "    \\min(0,1-w \\cdot x_i l_i)\n",
    "$$\n",
    "this means that if $w \\cdot x_i l_i \\geq 1$ (which is the requirement for the perceptron) we have 0 cost, but if we are closer to the plane $w \\cdot x = 0$ then there is a cost proportional to 1 - distance.\n",
    "\n",
    "Consider the problem of differentiating between the following handwritten digits, where $c^\\ast$ is the set of digits greater than or equal to 5."
   ]
  },
  {
   "cell_type": "code",
   "execution_count": null,
   "metadata": {},
   "outputs": [],
   "source": [
    "from math import floor\n",
    "from sklearn.datasets import load_digits\n",
    "import matplotlib.pyplot as plt\n",
    "from sklearn.datasets import load_digits\n",
    "digits = load_digits()\n",
    "fig, ax = plt.subplots(2,5)\n",
    "plt.gray()\n",
    "for i in range(10):\n",
    "    row = floor(i/5)\n",
    "    column = i % 5\n",
    "    ax[row,column].imshow(digits['data'][i,:].reshape(8,8))"
   ]
  },
  {
   "cell_type": "code",
   "execution_count": null,
   "metadata": {},
   "outputs": [],
   "source": [
    "from sklearn.svm import SVC\n",
    "\n",
    "labels = digits['target'] > 5\n",
    "\n",
    "X = digits['data']\n",
    "\n",
    "from sklearn.model_selection import train_test_split\n",
    "X_train, X_test, Y_train, Y_test = train_test_split(X,labels,)\n",
    "\n",
    "per = SVC(kernel='linear')\n",
    "\n",
    "per.fit(X_train,Y_train)"
   ]
  },
  {
   "cell_type": "code",
   "execution_count": null,
   "metadata": {},
   "outputs": [],
   "source": [
    "#per.score()"
   ]
  },
  {
   "cell_type": "code",
   "execution_count": null,
   "metadata": {},
   "outputs": [],
   "source": [
    "print(\"Training precision: \\t\", per.score(X_train,Y_train))\n",
    "\n",
    "print(\"Test precision: \\t\", per.score(X_test,Y_test))"
   ]
  },
  {
   "cell_type": "markdown",
   "metadata": {},
   "source": [
    "This is really interesting right? With just a linear classifier we can differentiate between digits less than and larger than 5 using a linear classifier up to 88% correct..."
   ]
  },
  {
   "cell_type": "markdown",
   "metadata": {},
   "source": [
    "But, we talked about the fact that different kernels might improve things. A famous kernel is the Radial Basis Function kernel, which we showed above. Lets try it"
   ]
  },
  {
   "cell_type": "markdown",
   "metadata": {},
   "source": [
    "### The Radial Basis Function Kernel"
   ]
  },
  {
   "cell_type": "code",
   "execution_count": null,
   "metadata": {},
   "outputs": [],
   "source": [
    "from sklearn.svm import SVC\n",
    "\n",
    "labels = digits['target'] > 5\n",
    "\n",
    "X = digits['data']\n",
    "\n",
    "from sklearn.model_selection import train_test_split\n",
    "X_train, X_test, Y_train, Y_test = train_test_split(X,labels)\n",
    "\n",
    "per = SVC(kernel='rbf')\n",
    "\n",
    "per.fit(X_train,Y_train)\n",
    "\n",
    "print(\"Training precision: \\t\", per.score(X_train,Y_train))\n",
    "\n",
    "print(\"Test precision: \\t\", per.score(X_test,Y_test))"
   ]
  },
  {
   "cell_type": "markdown",
   "metadata": {},
   "source": [
    "This is borderline crazy, how can we differentiate between these digits at 98% accuracy?\n",
    "I would leave this up to you to think about. But the fact is that it does work well."
   ]
  },
  {
   "cell_type": "markdown",
   "metadata": {},
   "source": [
    "## Probabilistic viewpoint\n",
    "\n",
    "Another model for the pattern recognition problem that has a probabilistic interpretation is the logistic regression (See Chapter 4) in the notes. In this model, we make the ansatz that the target variable, only takes values $0$ or $1$ and thus the conditional distribution of the target given the feature is thus a Bernoulli random variable. The model is thus that the $p$ in the Bernoulli is given as a function of $x$ (the feature). \n",
    "\n",
    "Let us consider the following classical wine quality dataset.\n",
    "This dataset is actually built into sklearn and we can load it as follows"
   ]
  },
  {
   "cell_type": "code",
   "execution_count": null,
   "metadata": {},
   "outputs": [],
   "source": [
    "import ssl \n",
    "# this hack of unverified ssl context is not recommended and \n",
    "#unnecessary if you do: 'sage --pip install certifi' in your \n",
    "#bash shell after installing SageMath\n",
    "ssl._create_default_https_context = ssl._create_unverified_context\n",
    "\n",
    "import sklearn.datasets as datasets\n",
    "X, Y = datasets.load_wine(return_X_y=True)"
   ]
  },
  {
   "cell_type": "markdown",
   "metadata": {},
   "source": [
    "<div class=\"section\" id=\"wine-recognition-dataset\">\n",
    "<span id=\"wine-dataset\"></span><h3>Wine recognition dataset<a class=\"headerlink\" href=\"#wine-recognition-dataset\" title=\"Permalink to this headline\">¶</a></h3>\n",
    "<p><strong>Data Set Characteristics:</strong></p>\n",
    "<blockquote>\n",
    "<div><dl class=\"field-list simple\">\n",
    "<dt class=\"field-odd\">Number of Instances</dt>\n",
    "<dd class=\"field-odd\"><p>178 (50 in each of three classes)</p>\n",
    "</dd>\n",
    "<dt class=\"field-even\">Number of Attributes</dt>\n",
    "<dd class=\"field-even\"><p>13 numeric, predictive attributes and the class</p>\n",
    "</dd>\n",
    "<dt class=\"field-odd\">Attribute Information</dt>\n",
    "<dd class=\"field-odd\"><ul class=\"simple\">\n",
    "<li><p>Alcohol</p></li>\n",
    "<li><p>Malic acid</p></li>\n",
    "<li><p>Ash</p></li>\n",
    "<li><p>Alcalinity of ash</p></li>\n",
    "<li><p>Magnesium</p></li>\n",
    "<li><p>Total phenols</p></li>\n",
    "<li><p>Flavanoids</p></li>\n",
    "<li><p>Nonflavanoid phenols</p></li>\n",
    "<li><p>Proanthocyanins</p></li>\n",
    "<li><p>Color intensity</p></li>\n",
    "<li><p>Hue</p></li>\n",
    "<li><p>OD280/OD315 of diluted wines</p></li>\n",
    "<li><p>Proline</p></li>\n",
    "</ul>\n",
    "</dd>\n",
    "</dl>\n",
    "<ul class=\"simple\">\n",
    "<li><dl class=\"simple\">\n",
    "<dt>class:</dt><dd><ul>\n",
    "<li><p>class_0</p></li>\n",
    "<li><p>class_1</p></li>\n",
    "<li><p>class_2</p></li>\n",
    "</ul>\n",
    "</dd>\n",
    "</dl>\n",
    "</li>\n",
    "</ul>"
   ]
  },
  {
   "cell_type": "markdown",
   "metadata": {},
   "source": [
    "The wine have been grown by three different cultivators in Italy, the goal is to predict which cultivator actually made the wine base on what we can measure."
   ]
  },
  {
   "cell_type": "markdown",
   "metadata": {},
   "source": [
    "We will simplify this problem by making sure that we only have two possible classes, lets try to differentiate between `class_2` and the other cultivators. Lets convert our data so that this is the case"
   ]
  },
  {
   "cell_type": "code",
   "execution_count": null,
   "metadata": {},
   "outputs": [],
   "source": [
    "Y_binary = (Y > 1)*1\n",
    "Y_binary"
   ]
  },
  {
   "cell_type": "code",
   "execution_count": null,
   "metadata": {},
   "outputs": [],
   "source": [
    "X.shape # 178 samples and 13 features"
   ]
  },
  {
   "cell_type": "code",
   "execution_count": null,
   "metadata": {},
   "outputs": [],
   "source": [
    "Y_binary.shape # 178 samples"
   ]
  },
  {
   "cell_type": "markdown",
   "metadata": {},
   "source": [
    "We will now try to apply the logistic regression model, recall the logistic function $\\frac{1}{1+e^{-x}}$"
   ]
  },
  {
   "cell_type": "code",
   "execution_count": null,
   "metadata": {},
   "outputs": [],
   "source": [
    "x = np.linspace(-10,10,100)\n",
    "plt.plot(x,1/(1+np.exp(-x)))"
   ]
  },
  {
   "cell_type": "markdown",
   "metadata": {},
   "source": [
    "To start, we are going to put everything on unit scale (for us this is only to simplify plotting). The unit scale is done using `StandardScaler` which takes each feature in `X` and rescales so that the mean is zero and standard deviation is $1$.\n",
    "\n",
    "The second thing we are going to do is to consider only one feature, $X$ has $13$ features, I have for your pleasure chosen the feature with index $9$ (most visual)."
   ]
  },
  {
   "cell_type": "code",
   "execution_count": null,
   "metadata": {},
   "outputs": [],
   "source": [
    "from sklearn.preprocessing import StandardScaler\n",
    "sc = StandardScaler()\n",
    "X_sc = sc.fit_transform(X)\n",
    "Y1 = 2*Y_binary-1 # Transform into +-1"
   ]
  },
  {
   "cell_type": "code",
   "execution_count": null,
   "metadata": {},
   "outputs": [],
   "source": [
    "# Uncomment and run to understand what it does\n",
    "#?StandardScaler"
   ]
  },
  {
   "cell_type": "code",
   "execution_count": null,
   "metadata": {},
   "outputs": [],
   "source": [
    "import numpy as np\n",
    "from scipy import optimize\n",
    "\n",
    "# define the objective/cost/loss function we want to minimise\n",
    "def f(x):\n",
    "    return np.sum(np.log(1+np.exp(-Y1*(x[0] + x[1]*X_sc[:,9]))))\n",
    "\n",
    "# multi-dimensional optimisation is syntactically similar to 1D, \n",
    "# but we are using Gradient and Hessian information from numerical evaluation of f to \n",
    "# iteratively improve the solution along the steepest direction, etc. \n",
    "# It 'LBFGS' method you will see in scientific computing\n",
    "parameter_bounding_box=((-10, 2), (-10, 2)) # specify the constraints for each parameter\n",
    "initial_arguments = np.array([0, 0]) # point in 2D to initialise the minimize algorithm\n",
    "result = optimize.minimize(f, initial_arguments, bounds=parameter_bounding_box,) # just call the minimize method!\n",
    "result"
   ]
  },
  {
   "cell_type": "code",
   "execution_count": null,
   "metadata": {},
   "outputs": [],
   "source": [
    "result_func= lambda z: 1/(1+np.exp(-result.x[0]-result.x[1]*z))"
   ]
  },
  {
   "cell_type": "code",
   "execution_count": null,
   "metadata": {},
   "outputs": [],
   "source": [
    "plt.scatter(X_sc[:,9],Y_binary)\n",
    "plt.plot(x,result_func(x))\n",
    "#P = points(zip(X_sc[:,9],Y_binary))\n",
    "#P+= plot(result_func,-10,10)\n",
    "#P+= plot(0.5,color='grey')\n",
    "#show(P)"
   ]
  },
  {
   "cell_type": "markdown",
   "metadata": {},
   "source": [
    "Lets try to do the same thing with the ready made `LogisticRegression` in `sklearn`"
   ]
  },
  {
   "cell_type": "code",
   "execution_count": null,
   "metadata": {},
   "outputs": [],
   "source": [
    "from sklearn.linear_model import LogisticRegression\n",
    "logreg = LogisticRegression(penalty='none')\n",
    "logreg.fit(X_sc[:,9].reshape(-1,1),Y_binary)"
   ]
  },
  {
   "cell_type": "code",
   "execution_count": null,
   "metadata": {},
   "outputs": [],
   "source": [
    "(logreg.coef_,logreg.intercept_)"
   ]
  },
  {
   "cell_type": "markdown",
   "metadata": {},
   "source": [
    "As we can see, we get the same result and it is very easy to write the code. **But now you know what is under the hood, so if you need to apply a different model, you can do it yourself.**"
   ]
  }
 ],
 "metadata": {
  "kernelspec": {
   "display_name": "Python 3 (ipykernel)",
   "language": "python",
   "name": "python3"
  },
  "language_info": {
   "codemirror_mode": {
    "name": "ipython",
    "version": 3
   },
   "file_extension": ".py",
   "mimetype": "text/x-python",
   "name": "python",
   "nbconvert_exporter": "python",
   "pygments_lexer": "ipython3",
   "version": "3.9.13"
  },
  "lx_course_instance": "2022",
  "lx_course_name": "Introduction to Data Science",
  "lx_course_number": "1MS041"
 },
 "nbformat": 4,
 "nbformat_minor": 4
}
