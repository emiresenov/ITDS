{
 "cells": [
  {
   "cell_type": "markdown",
   "id": "ac48d776",
   "metadata": {},
   "source": [
    "## Assignment 2, PROBLEM 1\n",
    "\n",
    "\n",
    "## Random variable generation and transformation\n",
    "\n",
    "The purpose of this problem is to show that you can implement your own sampler, this will be built in the following three steps:\n",
    "\n",
    "1. [2p] Implement a Linear Congruential Generator where you tested out a good combination (a large $M$ with $a,b$ satisfying the Hull-Dobell (Thm 6.8)) of parameters. Follow the instructions in the code block.\n",
    "2. [2p] Using a generator construct random numbers from the uniform $[0,1]$ distribution.\n",
    "3. [4p] Using a uniform $[0,1]$ random generator, generate samples from \n",
    "\n",
    "$$p_0(x) = \\frac{\\pi}{2}|\\sin(2\\pi x)|, \\quad x \\in [0,1] \\enspace .$$\n",
    "\n",
    "Using the **Accept-Reject** sampler (**Algorithm 1** in TFDS notes) with sampling density given by the uniform $[0,1]$ distribution."
   ]
  },
  {
   "cell_type": "markdown",
   "id": "4313784a",
   "metadata": {},
   "source": [
    "## 1)\n",
    "\n",
    "**Implement a Linear Congruential Generator where you tested out a good combination (a large $M$ with $a,b$ satisfying the Hull-Dobell (Thm 6.8)) of parameters. Follow the instructions in the code block.**\n",
    "\n",
    "To make a LCG we need:\n",
    "\n",
    "- a modulus $m$ ($m > 0$)\n",
    "- an integer multiplier $a$ ($0 \\le a < m$)\n",
    "- an integer increment $c$ ($0 \\le c < m$)\n",
    "- an integer seed $x_0$ ($0 \\le x_0 < m$)\n",
    "- an integer sequence length $n$\n",
    "\n",
    "Using these inputs, the LCG generates numbers $x_1, x_2, \\ldots x_{n-1} $ where $x_{i+1}$ is calculated from $x_i$ as defined by the following recurrence relation:\n",
    "\n",
    "$$x_{i+1} \\gets mod \\left(a x_i + c , m \\right)$$"
   ]
  },
  {
   "cell_type": "code",
   "execution_count": 1,
   "id": "fe5f7ed5",
   "metadata": {},
   "outputs": [],
   "source": [
    "def problem1_LCG(size=None, seed = 0):\n",
    "    m, a, c = 2147483648, 65539, 0\n",
    "    x = seed\n",
    "    arr = [x % m] # Start the list with x=x0\n",
    "    for i in range(2, size+1, 1):\n",
    "        x = (a*x+c)%m\n",
    "        arr.append(x)\n",
    "    return arr"
   ]
  },
  {
   "cell_type": "markdown",
   "id": "141687ba",
   "metadata": {},
   "source": [
    "## 2)\n",
    "\n",
    "**Using a generator construct random numbers from the uniform $[0,1]$ distribution.**\n",
    "\n",
    "We want an LCG with a **full period** of $m$ so that we can use it with any seed and not get stuck at fixed points or short periodic sequences. This is a minimal requirement for simulation purposes that we will employ such sequences for.  Is there anyway to know what makes a LCG with a full period?  \n",
    "\n",
    "It turns out that an LCG will have a full period if and only if:\n",
    "\n",
    "- $b$ and $m$ are relatively prime or coprime.  i.e. the **greatest common divisor (gcd)** of $b$ and $m$ is $1$; and\n",
    "- $a-1$ is divisible by all **prime factors** of $m$; and\n",
    "- $a-1$ is a multiple of 4 if $m$ is a multiple of 4.\n",
    "\n",
    "To get a simple pseudo-random Uniform$(0,1)$ generator, we scale the linear congruential sequence over [0, 1].  We can do this by dividing each element by the largest number in the sequence (2147483648 in the case of `problem1_LCG`). "
   ]
  },
  {
   "cell_type": "code",
   "execution_count": 2,
   "id": "340448e8",
   "metadata": {},
   "outputs": [],
   "source": [
    "def problem1_uniform(generator=problem1_LCG, period = 1, size=None, seed=0):\n",
    "    lcg = generator(size, seed)\n",
    "    arr =  [lcgs/period for lcgs in lcg]\n",
    "    return arr \n",
    "\n",
    "#test = problem1_uniform(size=100, period=2147483648, seed=1)\n",
    "#test"
   ]
  },
  {
   "cell_type": "markdown",
   "id": "aafad289",
   "metadata": {},
   "source": [
    "## 3)\n",
    "\n",
    "**Using a uniform $[0,1]$ random generator, generate samples from** \n",
    "\n",
    "$$p_0(x) = \\frac{\\pi}{2}|\\sin(2\\pi x)|, \\quad x \\in [0,1] \\enspace .$$\n",
    "\n",
    "**Using the Accept-Reject sampler (Algorithm 1 in TFDS notes) with sampling density given by the uniform $[0,1]$ distribution.**\n",
    "\n",
    "We implement the Accept-Reject Sampler from p.95 ITDS"
   ]
  },
  {
   "cell_type": "code",
   "execution_count": 3,
   "id": "f8ddcba7",
   "metadata": {},
   "outputs": [
    {
     "data": {
      "image/png": "[encoded data removed]",
      "text/plain": [
       "<Figure size 640x480 with 1 Axes>"
      ]
     },
     "metadata": {},
     "output_type": "display_data"
    }
   ],
   "source": [
    "def problem1_accept_reject(uniformGenerator=None, n_iterations=None, seed=0):\n",
    "    from numpy import sin, pi\n",
    "    \n",
    "    '''\n",
    "    Double the size to get two uniform distributions. U should always be uniform, but\n",
    "    here we are also using uniform as sampling density. In the algorithm, we see the \n",
    "    second half as U-sampling and the first half as the sampling density.\n",
    "    '''\n",
    "    init = uniformGenerator(period=2147483648, size=n_iterations*2,seed=seed)\n",
    "    \n",
    "    fx = lambda x : (pi/2)*abs(sin(x*2*pi))\n",
    "    vals=[]\n",
    "    \n",
    "    for i in range(n_iterations):\n",
    "        x = init[i] # Draw x from sampling density (first half)\n",
    "        U = init[i+n_iterations] # Draw U from the second half, which is our U-sampling\n",
    "        \n",
    "        '''\n",
    "        The scaling constant M is to be set such that f(x) ≤ Mg(x) for all x. \n",
    "        For the uniform distribution bounded by [0,1] we get the peculiar \n",
    "        situation that g(x) = uniform PDF = 1 / (1-0) = 1, \n",
    "        thus the scaling constant M = pi/2 satisfies the condition.\n",
    "        '''\n",
    "        r = 2*fx(x)/(pi) # Scale uniform distribution, m = pi/2\n",
    "        \n",
    "        if (U <= r):\n",
    "            vals.append(x)\n",
    "            \n",
    "    return vals\n",
    "\n",
    "test = problem1_accept_reject(problem1_uniform, n_iterations=100000, seed=1)\n",
    "\n",
    "# Plot for vizualisation. Good for troubleshooting. Plot should look like the sampler function.\n",
    "import matplotlib.pyplot as plt\n",
    "plt.hist(test, density=True, bins=500)\n",
    "plt.show()"
   ]
  },
  {
   "cell_type": "markdown",
   "id": "057245bb",
   "metadata": {},
   "source": [
    "\n",
    "\n",
    "## Markovian travel\n",
    "\n",
    "The dataset `Travel Dataset - Datathon 2019` is a simulated dataset designed to mimic real corporate travel systems -- focusing on flights and hotels. The file is at `data/flights.csv`, i.e. you can use the path `data/flights.csv` from the notebook to access the file.\n",
    "\n",
    "1. [2p] In the first code-box \n",
    "    1. Load the csv from file `data/flights.csv`\n",
    "    2. Fill in the value of the variables as specified by their names.\n",
    "2. [2p] In the second code-box your goal is to estimate a Markov chain transition matrix for the travels of these users. For example, if we enumerate the cities according to alphabetical order, the first city `'Aracaju (SE)'` would correspond to $0$. Each row of the file corresponds to one flight, i.e. it has a starting city and an ending city. We model this as a stationary Markov chain, i.e. each user's travel trajectory is a realization of the Markov chain, $X_t$. Here, $X_t$ is the current city the user is at, at step $t$, and $X_{t+1}$ is the city the user travels to at the next time step. This means that to each row in the file there is a corresponding pair $(X_{t},X_{t+1})$. The stationarity assumption gives that for all $t$ there is a transition density $p$ such that $P(X_{t+1} = y | X_t = x) = p(x,y)$ (for all $x,y$). The transition matrix should be `n_cities` x `n_citites` in size.\n",
    "3. [2p] Use the transition matrix to compute out the stationary distribution.\n",
    "4. [2p] Given that we start in 'Aracaju (SE)' what is the probability that after 3 steps we will be back in 'Aracaju (SE)'?"
   ]
  },
  {
   "cell_type": "markdown",
   "id": "ae6e7798",
   "metadata": {},
   "source": [
    "### 1)\n",
    "\n",
    "1. Load the csv from file `data/flights.csv`\n",
    "2. Fill in the value of the variables as specified by their names."
   ]
  },
  {
   "cell_type": "code",
   "execution_count": 4,
   "id": "41a54e71",
   "metadata": {},
   "outputs": [],
   "source": [
    "import csv \n",
    "data = []\n",
    "with open('data/flights.csv', 'r') as f:\n",
    "    reader = csv.reader(f)\n",
    "    header = next(reader)\n",
    "    data = [line for line in reader]\n",
    "\n",
    "# Just regular data analysis\n",
    "number_of_cities = len(set([entry[2] for entry in data])) #filter out duplicates\n",
    "number_of_userCodes = 1339\n",
    "number_of_observations = len(data)"
   ]
  },
  {
   "cell_type": "markdown",
   "id": "da9cc326",
   "metadata": {},
   "source": [
    "### 2)\n",
    "In the second code-box your goal is to estimate a Markov chain transition matrix for the travels of these users. For example, if we enumerate the cities according to alphabetical order, the first city `'Aracaju (SE)'` would correspond to $0$. Each row of the file corresponds to one flight, i.e. it has a starting city and an ending city. We model this as a stationary Markov chain, i.e. each user's travel trajectory is a realization of the Markov chain, $X_t$. Here, $X_t$ is the current city the user is at, at step $t$, and $X_{t+1}$ is the city the user travels to at the next time step. This means that to each row in the file there is a corresponding pair $(X_{t},X_{t+1})$. The stationarity assumption gives that for all $t$ there is a transition density $p$ such that $P(X_{t+1} = y | X_t = x) = p(x,y)$ (for all $x,y$). The transition matrix should be `n_cities` x `n_citites` in size."
   ]
  },
  {
   "cell_type": "markdown",
   "id": "d9467d80",
   "metadata": {},
   "source": [
    "We are given a function for creating a dictionary"
   ]
  },
  {
   "cell_type": "code",
   "execution_count": 5,
   "id": "e9f0c37c",
   "metadata": {},
   "outputs": [],
   "source": [
    "# This is a very useful function that you can use for part 2. You have seen this before when parsing the\n",
    "# pride and prejudice book.\n",
    "\n",
    "def makeFreqDict(myDataList):\n",
    "    '''Make a frequency mapping out of a list of data.\n",
    "\n",
    "    Param myDataList, a list of data.\n",
    "    Return a dictionary mapping each unique data value to its frequency count.'''\n",
    "\n",
    "    freqDict = {} # start with an empty dictionary\n",
    "\n",
    "    for res in myDataList:\n",
    "        if res in freqDict: # the data value already exists as a key\n",
    "                freqDict[res] = freqDict[res] + 1 # add 1 to the count using sage integers\n",
    "        else: # the data value does not exist as a key value\n",
    "            freqDict[res] = 1 # add a new key-value pair for this new data value, frequency 1\n",
    "\n",
    "    return freqDict # return the dictionary created"
   ]
  },
  {
   "cell_type": "code",
   "execution_count": 6,
   "id": "14cad513",
   "metadata": {},
   "outputs": [
    {
     "name": "stdout",
     "output_type": "stream",
     "text": [
      "[[0.         0.12983559 0.14487965 0.23218891 0.1057651  0.13120567\n",
      "  0.07570385 0.07839029 0.10203095]\n",
      " [0.15702265 0.         0.14675591 0.25273726 0.09704669 0.12417557\n",
      "  0.06478443 0.06527178 0.09220572]\n",
      " [0.15520318 0.12999309 0.         0.23751007 0.1019627  0.12979164\n",
      "  0.0695004  0.07252216 0.10351675]\n",
      " [0.15079296 0.1357189  0.14398869 0.         0.11705079 0.13275294\n",
      "  0.10131375 0.10119162 0.11719036]\n",
      " [0.16544797 0.1255253  0.14889057 0.28193814 0.         0.12161708\n",
      "  0.03992268 0.0389141  0.07774416]\n",
      " [0.16023622 0.1253937  0.14796588 0.24963911 0.09494751 0.\n",
      "  0.06223753 0.06404199 0.09553806]\n",
      " [0.16758846 0.1185846  0.14362177 0.34534642 0.05649718 0.11281594\n",
      "  0.         0.         0.05554564]\n",
      " [0.17060337 0.1174579  0.14733396 0.33910196 0.05413938 0.11412535\n",
      "  0.         0.         0.05723807]\n",
      " [0.1607619  0.12012698 0.15225397 0.28431746 0.07830688 0.12325926\n",
      "  0.03953439 0.04143915 0.        ]]\n"
     ]
    }
   ],
   "source": [
    "import numpy as np\n",
    "\n",
    "cities = [entry[2] for entry in data] \n",
    "unique_cities = sorted(set(cities)) # The unique cities \n",
    "n_cities = len(unique_cities) # The number of unique citites\n",
    "\n",
    "'''The variables below were defined as XXX and they were to be filled in'''\n",
    "# Count the different transitions\n",
    "transitions = [(entry[2],entry[3]) for entry in data] # A list containing tuples ex: ('Aracaju (SE)','Rio de Janeiro (RJ)') of all transitions in the text\n",
    "transition_counts = makeFreqDict(transitions) # A dictionary that counts the number of each transition \n",
    "# ex: ('Aracaju (SE)','Rio de Janeiro (RJ)'):4\n",
    "indexToCity = {i:unique_cities[i] for i in range(n_cities)} # A dictionary that maps the n-1 number to the n:th unique_city,\n",
    "# ex: 0:'Aracaju (SE)'\n",
    "cityToIndex = {unique_cities[i]:i for i in range(n_cities)} # The inverse function of indexToWord, \n",
    "# ex: 'Aracaju (SE)':0\n",
    "\n",
    "'''\n",
    "Part 3, finding the maximum likelihood estimate of the transition matrix. \n",
    "The assignment was to define the transition_matrix variable, none of the\n",
    "code was prewritten.\n",
    "'''\n",
    "# Quant matrix: Create a 2d array where each row represents a city.\n",
    "# The values count how many transitions goes from the city to every other city\n",
    "quant_matrix = []\n",
    "for i in unique_cities:\n",
    "    row = []\n",
    "    for j in unique_cities:\n",
    "        try:\n",
    "            row.append(transition_counts[(i,j)])\n",
    "        except:\n",
    "            # No transitions happens when the city comes across itself. \n",
    "            # We append with zeros which will result in a zero diagonal in the matrix\n",
    "            row.append(0)  \n",
    "    quant_matrix.append(row)\n",
    "\n",
    "npQuant = np.array(quant_matrix)\n",
    "#print(npQuant) \n",
    "\n",
    "'''\n",
    "Define the transition matrix. Sum every row and divide every row by its sum\n",
    "to obtain the probabilities. Numpy division is carried out row-wise, so we \n",
    "have to transpose the matrix to get correct probabilities. Check correctness\n",
    "by verifying that every row sums up to 1.\n",
    "'''\n",
    "transition_matrix = (npQuant/npQuant.sum(axis=0)).T\n",
    "print(transition_matrix) \n",
    "#for i in transition_matrix:\n",
    "    #print(sum(i))\n",
    "\n",
    "# The transition matrix should be ordered in such a way that\n",
    "# p_{'Aracaju (SE)','Rio de Janeiro (RJ)'} = transition_matrix[cityToIndex['Aracaju (SE)'],cityToIndex['Rio de Janeiro (RJ)']]\n",
    "# and represents the probability of travelling Aracaju (SE)->Rio de Janeiro (RJ)\n",
    "\n",
    "# Make sure that the transition_matrix does not contain np.nan from division by zero for instance"
   ]
  },
  {
   "cell_type": "markdown",
   "id": "7f72f37d",
   "metadata": {},
   "source": [
    "### 3)\n",
    "\n",
    "**Use the transition matrix to compute out the stationary distribution.**"
   ]
  },
  {
   "cell_type": "code",
   "execution_count": 7,
   "id": "1f96cbc6",
   "metadata": {},
   "outputs": [
    {
     "data": {
      "text/plain": [
       "array([0.13690932, 0.1132047 , 0.12780262, 0.21081107, 0.08752133,\n",
       "       0.11210498, 0.06184532, 0.06290826, 0.0868924 ])"
      ]
     },
     "execution_count": 7,
     "metadata": {},
     "output_type": "execute_result"
    }
   ],
   "source": [
    "perron_eigenvector = np.abs(np.linalg.eig(transition_matrix.T)[1][:,0])\n",
    "mu = perron_eigenvector/np.sum(perron_eigenvector)\n",
    "stationary_distribution_problem2 = mu\n",
    "stationary_distribution_problem2"
   ]
  },
  {
   "cell_type": "markdown",
   "id": "56e1c382",
   "metadata": {},
   "source": [
    "### 4)\n",
    "\n",
    "**Given that we start in 'Aracaju (SE)' what is the probability that after 3 steps we will be back in 'Aracaju (SE)'?**\n",
    "\n",
    "The transition matrix at `t=3` is the transition matrix raised to the third power `P3`. With this transition matrix, we can attain the probability for getting from state `a` to `b` by indexing `P3[a,b]`"
   ]
  },
  {
   "cell_type": "code",
   "execution_count": 8,
   "id": "67faf412",
   "metadata": {},
   "outputs": [
    {
     "name": "stdout",
     "output_type": "stream",
     "text": [
      "0.13331717737273133\n"
     ]
    }
   ],
   "source": [
    "P3 = np.linalg.matrix_power(transition_matrix,3)\n",
    "return_probability_problem2 = P3[0,0]\n",
    "print(return_probability_problem2)"
   ]
  },
  {
   "cell_type": "markdown",
   "id": "622c7e80",
   "metadata": {},
   "source": [
    "---\n",
    "## Assignment 2, PROBLEM 3\n",
    "\n",
    "**Derive the maximum likelihood estimate for $n$ IID samples from a random variable with the following probability density function:**\n",
    "$$\n",
    "f(x; \\lambda) = \\frac{1}{24} \\lambda^5 x^4 \\exp(-\\lambda x), \\qquad \\text{ where, } \\lambda>0, x > 0\n",
    "$$"
   ]
  },
  {
   "cell_type": "markdown",
   "id": "2ccd77b3",
   "metadata": {},
   "source": [
    "## Answer\n",
    "\n",
    "1) Calculate the likelihood function\n",
    "$$L(\\lambda) = \\prod_{i=1}^n f(x;\\lambda) = \\prod_{i=1}^n \\frac{1}{24} \\lambda^5 x_i^4 e^{-\\lambda x_i} \n",
    "= \\frac{1}{24^n} \\lambda^{5n} x_i^4 \\cdot \\ldots \\cdot x_n^4 \\cdot e^{-\\lambda \\sum_{i=1}^n x_i} \n",
    "$$\n",
    "\n",
    "2) Calculate the log-likelihood\n",
    "\n",
    "$$\n",
    "log L(\\lambda) = \\frac{1}{24^n} + 5nlog(\\lambda) + \\sum_{i=1}^n x_i^4 - \\lambda \\sum_{i=1}^n x_i\n",
    "$$\n",
    "\n",
    "$$\n",
    "\\frac{d}{d\\lambda} log L(\\lambda) = \\frac{5n}{\\lambda} - \\sum_{i=1}^n x_i = 0 \\Rightarrow \\frac{5n}{\\lambda} = \\sum_{i=1}^n x_i\n",
    "$$\n",
    "\n",
    "$$\\lambda = \\frac{5n}{\\sum_{i=1}^n x_i}$$"
   ]
  },
  {
   "cell_type": "code",
   "execution_count": 9,
   "id": "f361f19b",
   "metadata": {},
   "outputs": [],
   "source": [
    "def MLeForAssignment2Problem3(x):\n",
    "    return 5*len(x)/sum(x)"
   ]
  },
  {
   "cell_type": "markdown",
   "id": "c00487da",
   "metadata": {},
   "source": [
    "## Assignment 2, PROBLEM 4\n",
    "\n",
    "Use the **Multi-dimensional Constrained Optimisation** example (in `07-Optimization.ipynb`) to numerically find the MLe for the mean and variance parameter based on `normallySimulatedDataSamples`, an array obtained by a specific simulation of $30$ IID samples from the $Normal(10,2)$ random variable.\n",
    "\n",
    "Recall that $Normal(\\mu, \\sigma^2)$ RV has the probability density function given by:\n",
    "\n",
    "$$\n",
    "f(x ;\\mu, \\sigma) = \\displaystyle\\frac{1}{\\sigma\\sqrt{2\\pi}}\\exp\\left(\\frac{-1}{2\\sigma^2}(x-\\mu)^2\\right)\n",
    "$$\n",
    "\n",
    "The two parameters, $\\mu \\in \\mathbb{R} := (-\\infty,\\infty)$ and $\\sigma \\in (0,\\infty)$, are sometimes referred to as the location and scale parameters.\n",
    "\n",
    "You know that the log likelihood function for $n$ IID samples from a Normal RV with parameters $\\mu$ and $\\sigma$ simply follows from $\\sum_{i=1}^n \\log(f(x_i; \\mu,\\sigma))$, based on the IID assumption. \n",
    "\n",
    "NOTE: When setting bounding boxes for $\\mu$ and $\\sigma$ try to start with some guesses like $[-20,20]$ and $[0.1,5.0]$ and make it larger if the solution is at the boundary. Making the left bounding-point for $\\sigma$ too close to $0.0$ will cause division by zero Warnings. Other numerical instabilities can happen in such iterative numerical solutions to the MLe. You need to be patient and learn by trial-and-error. You will see the mathematical theory in more details in a future course in scientific computing/optimisation. So don't worry too much now except learning to use it for our problems. "
   ]
  },
  {
   "cell_type": "markdown",
   "id": "d029e2b8",
   "metadata": {},
   "source": [
    "## Answer\n",
    "\n",
    "The crux of this exercise is to derive the negative log likelihood for the Gaussian distribution, which is the return value of the function to be defined. The rest is just about filling in the gaps in the prepared code, all of which follows from the examples in the optimization notebook.\n",
    "\n",
    "\\begin{align*}\n",
    "- log f(x_1 \\ldots x_n;\\mu,\\sigma) &= - log \\left( \\prod_{i=1}^n \\frac{1}{\\sqrt{2\\pi\\sigma^2}}\\exp\\left(-\\frac{1}{2\\sigma^2}(x_i-\\mu)^2\\right) \\right) \\\\\n",
    "&= -log \\left( 2\\pi\\sigma^{-n/2} \\exp\\left(-\\frac{1}{2\\sigma^2}\\sum_{i_1}^n(x_i-\\mu)^2\\right) \\right) \\\\\n",
    "&= -log \\left( 2\\pi\\sigma^{-n/2} \\right) - log \\left( \\exp\\left(-\\frac{1}{2\\sigma^2}\\sum_{i_1}^n(x_i-\\mu)^2\\right) \\right) \\\\\n",
    "&= -\\frac{n}{2} \\cdot -log \\left( 2\\pi\\sigma^2 \\right) +\\frac{1}{2\\sigma^2}\\sum_{i_1}^n(x_i-\\mu)^2 \\\\\n",
    "&= \\frac{n}{2}log \\left( 2\\pi\\sigma^2 \\right) + \\frac{1}{2\\sigma^2}\\sum_{i_1}^n(x_i-\\mu)^2\n",
    "\\end{align*}\n",
    "\n",
    "We can implement this in code as:\n",
    "$$\\frac{1}{2} \\sum_{i=1}^n log(2 \\pi \\sigma^2) + \\frac{(x_i-\\mu)^2}{\\sigma^2}$$"
   ]
  },
  {
   "cell_type": "code",
   "execution_count": 10,
   "id": "50331601",
   "metadata": {},
   "outputs": [
    {
     "data": {
      "text/plain": [
       "      fun: 58.63138728236711\n",
       " hess_inv: <2x2 LbfgsInvHessProduct with dtype=float64>\n",
       "      jac: array([7.10542677e-07, 7.10542740e-07])\n",
       "  message: 'CONVERGENCE: NORM_OF_PROJECTED_GRADIENT_<=_PGTOL'\n",
       "     nfev: 93\n",
       "      nit: 16\n",
       "     njev: 31\n",
       "   status: 0\n",
       "  success: True\n",
       "        x: array([9.26861961, 1.70820152])"
      ]
     },
     "execution_count": 10,
     "metadata": {},
     "output_type": "execute_result"
    }
   ],
   "source": [
    "\n",
    "\n",
    "import numpy as np\n",
    "from scipy import optimize\n",
    "# do NOT change the next three lines\n",
    "np.random.seed(123456) # set seed\n",
    "# simulate 30 IID samples drawn from Normal(10,2)RV\n",
    "normallySimulatedDataSamples = np.random.normal(10,2,30) \n",
    "\n",
    "# define the negative log likelihoo function you want to minimise by editing XXX\n",
    "def negLogLklOfIIDNormalSamples(parameters):\n",
    "    '''return the -log(likelihood) of normallySimulatedDataSamples with mean and var parameters'''\n",
    "    mu=parameters[0]\n",
    "    sigma=parameters[1]\n",
    "    return 0.5*np.sum(np.log(2*np.pi*sigma**2) + ((normallySimulatedDataSamples - mu)**2)/(sigma**2))\n",
    "\n",
    "# you should only change XXX below and not anything else\n",
    "parameter_bounding_box=((-20, 20), (0.1, 5.0)) # specify the constraints for each parameter - some guess work...\n",
    "initial_arguments = np.array([0, 0]) # point in 2D to initialise the minimize algorithm\n",
    "result_Ass2Prob4 = optimize.minimize(negLogLklOfIIDNormalSamples, initial_arguments, bounds=parameter_bounding_box) \n",
    "# call the minimize method above finally! you need to play a bit to get initial conditions and bounding box ok\n",
    "result_Ass2Prob4\n"
   ]
  }
 ],
 "metadata": {
  "kernelspec": {
   "display_name": "Python 3 (ipykernel)",
   "language": "python",
   "name": "python3"
  },
  "language_info": {
   "codemirror_mode": {
    "name": "ipython",
    "version": 3
   },
   "file_extension": ".py",
   "mimetype": "text/x-python",
   "name": "python",
   "nbconvert_exporter": "python",
   "pygments_lexer": "ipython3",
   "version": "3.9.13"
  }
 },
 "nbformat": 4,
 "nbformat_minor": 5
}
