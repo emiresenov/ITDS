{
 "cells": [
  {
   "cell_type": "markdown",
   "id": "1d9f009f",
   "metadata": {},
   "source": [
    "## Assignment 4, PROBLEM 1\n",
    "\n",
    "This time the assignment only consists of one problem, but we will do a more comprehensive analysis instead.\n",
    "\n",
    "Consider the dataset `mammography.mat` that you can download from [http://odds.cs.stonybrook.edu/mammography-dataset/](http://odds.cs.stonybrook.edu/mammography-dataset/). Below you can find the code to load this file into `X` and `Y`, you just need to put the file in your `data` folder. During mammography the doctor would be looking for something called `calcification`, which is calcium deposits in the breast tissue and is used as an indicator of cancer. In this dataset the `X` corresponds to some measurements, there are 6 features. The `Y` is a 0-1 label where 1 represents calcification and 0 does not."
   ]
  },
  {
   "cell_type": "markdown",
   "id": "4f5c4b63",
   "metadata": {},
   "source": [
    "### 1)\n",
    "Split the data into three parts, train/test/validation where train is 60% of the data, test is 15% and validation is 25% of the data. Do not do this randomly, I have prepared a shuffling with a fixed seed, this way I can make sure that we all did the same splits. That is [train,test,validation] is the splitting layout."
   ]
  },
  {
   "cell_type": "code",
   "execution_count": 1,
   "id": "9cc6ed32",
   "metadata": {},
   "outputs": [],
   "source": [
    "import scipy.io as so\n",
    "import numpy as np\n",
    "data = so.loadmat('data/mammography.mat')\n",
    "\n",
    "np.random.seed(0)\n",
    "shuffle_index = np.arange(0,len(data['X']))\n",
    "np.random.shuffle(shuffle_index)\n",
    "\n",
    "X = data['X'][shuffle_index,:]\n",
    "Y = data['y'][shuffle_index,:].flatten()"
   ]
  },
  {
   "cell_type": "markdown",
   "id": "2f5c84d3",
   "metadata": {},
   "source": [
    "### Answer\n",
    "\n",
    "Pretty straight forward, just regular indexing"
   ]
  },
  {
   "cell_type": "code",
   "execution_count": 2,
   "id": "24c9b3ca",
   "metadata": {},
   "outputs": [],
   "source": [
    "# Split the X,Y into three parts, make sure that the sizes are\n",
    "# (6709, 6), (1677, 6), (2797, 6), (6709,), (1677,), (2797,)\n",
    "length = len(X)\n",
    "X_train, X_test, X_valid, Y_train, Y_test, Y_valid = X[0:6709], X[6709:8386], X[8386:], Y[0:6709], Y[6709:8386], Y[8386:]"
   ]
  },
  {
   "cell_type": "markdown",
   "id": "a9023a23",
   "metadata": {},
   "source": [
    "### 2)\n",
    "Train a machine learning model on the training data (you are free to choose it yourself). Hint: you could always try `LogisticRegression`, but for it to work well you would need `StandardScaler` and put everything in a `Pipeline`."
   ]
  },
  {
   "cell_type": "code",
   "execution_count": 3,
   "id": "6536063c",
   "metadata": {},
   "outputs": [],
   "source": [
    "# Part 2\n",
    "# Use X_train,Y_train to train a model from sklearn. Make sure it has the predict_proba function\n",
    "# for instance LogisticRegression\n",
    "\n",
    "from sklearn.linear_model import LogisticRegression\n",
    "from sklearn.preprocessing import StandardScaler\n",
    "from sklearn.pipeline import Pipeline\n",
    "\n",
    "p = Pipeline([('scaler', StandardScaler()), ('model',LogisticRegression())])\n",
    "\n",
    "model = p.fit(X_train, Y_train)"
   ]
  },
  {
   "cell_type": "markdown",
   "id": "492c1164",
   "metadata": {},
   "source": [
    "### 3)\n",
    "Use the classification report from `Utils` and compute the intervals for precision-recall etc on the test set with `union_bound correction` with 95% confidence."
   ]
  },
  {
   "cell_type": "markdown",
   "id": "7967d099",
   "metadata": {},
   "source": [
    "### Answer\n",
    "\n",
    "Use the classification report interval from utils, it will display all the necessary information"
   ]
  },
  {
   "cell_type": "code",
   "execution_count": 4,
   "id": "72790504",
   "metadata": {},
   "outputs": [
    {
     "name": "stdout",
     "output_type": "stream",
     "text": [
      "            labels           precision             recall\n",
      "\n",
      "                 0  0.98 : [0.94,1.00] 1.00 : [0.96,1.00]\n",
      "                 1  0.70 : [0.33,1.00] 0.36 : [0.09,0.62]\n",
      "\n",
      "          accuracy                                        0.98 : [0.94,1.00]\n",
      "\n"
     ]
    }
   ],
   "source": [
    "# Compute precision and recall on the test set using \n",
    "from Utils import classification_report_interval\n",
    "\n",
    "# Each precision and recall should be a tuple, for instance you can write\n",
    "# precision0 = (0.9,0.95)\n",
    "\n",
    "y_pred = p.predict(X_test)\n",
    "print(classification_report_interval(Y_test, y_pred, alpha=0.05))\n",
    "\n",
    "precision0 = (0.94,1.00)\n",
    "recall0 = (0.96, 1.00)\n",
    "precision1 = (0.33,1.00)\n",
    "recall1 = (0.09,0.62)"
   ]
  },
  {
   "cell_type": "markdown",
   "id": "1d092f8d",
   "metadata": {},
   "source": [
    "### 4)\n",
    "You are interested in minimizing the average cost of your classifier, but first we must define it:\n",
    "    * If someone is calcified but classified as not, we say it costs 30 **(this is the worst scenario)** \n",
    "    * If someone is not calcified but classified as calcified, we say it costs 5 **(this probably only costs extra investigation)**\n",
    "    * If someone is calcified but classified as calcified, costs 0 **(We did the right thing, no cost)**\n",
    "    * If someone is not calcified but classified as not, costs 0 **(We did the right thing, no cost)**.\n",
    "\n",
    "complete filling the function `cost` to compute the cost of a prediction model under a certain prediction threshold (recall our precision recall lecture and the `predict_proba` function from trained models). What would be the cost of having a model that always classifies someone as not calcified on the test set?\n",
    "\n",
    "### Answer\n",
    "\n",
    "Let false negatives be denoted by $E_1$. We can model false negatives as\n",
    "\n",
    "$$E_1 = 1_{Y=1, g(X)=0} = 1_{Y=1} 1_{g(X) = 0}$$\n",
    "\n",
    "Where $Y$ is the outcome, and $g(X)$ is our prediction.\n",
    "\n",
    "Let false positives be denoted by $E_2$. We get\n",
    "\n",
    "$$E_2 = 1_{Y=0, g(X)=1} = 1_{Y=0} 1_{g(X) = 1}$$"
   ]
  },
  {
   "cell_type": "code",
   "execution_count": 5,
   "id": "4ff7cf96",
   "metadata": {},
   "outputs": [],
   "source": [
    "def cost(model,threshold,X,Y):\n",
    "    pred_proba = model.predict_proba(X)[:,1]\n",
    "    predictions = (pred_proba >= threshold)*1\n",
    "    \n",
    "    # Fill in what is missing to compute the cost and return it\n",
    "    # Note that we are interested in average cost (cost per person)\n",
    "    \n",
    "    Yp = predictions\n",
    "    \n",
    "    E_1 = Y * (1-Yp) # E1 is a vector that contains a 1 for every false negative, 0 everywhere else\n",
    "    E_2 = (1-Y) * Yp # Same concept for E_2, but for false positives\n",
    "    \n",
    "    return np.mean(E_1*30 + E_2*5) # Weight E_1 and E_2 with costs, return mean\n",
    "\n",
    "\n",
    "# Fill in the naive cost of the model that would classify all as non-calcified on the test set\n",
    "Y_naive = np.zeros(len(Y_test))\n",
    "naive_cost = np.mean(Y_test*(1-Y_naive)*30)"
   ]
  },
  {
   "cell_type": "markdown",
   "id": "214f983f",
   "metadata": {},
   "source": [
    "### 5)\n",
    "\n",
    "Now, we wish to select the threshold of our classifier that minimizes the cost, we do that by checking say 100 evenly spaced proposal thresholds between 0 and 1, and use our testing data to compute the cost.\n",
    "\n",
    "### Answer\n",
    "Generate and loop through 100 evenly spaced thresholds $\\in (0,1)$ and save the minimum."
   ]
  },
  {
   "cell_type": "code",
   "execution_count": 6,
   "id": "5f7e4718",
   "metadata": {},
   "outputs": [],
   "source": [
    "# Part 5\n",
    "minThresh = 50000\n",
    "minCost = 50000\n",
    "for i in np.linspace(0,1,100):\n",
    "    iCost = cost(model,i,X_test,Y_test)\n",
    "    if (iCost < minCost):\n",
    "        minThresh = i\n",
    "        minCost = iCost\n",
    "        \n",
    "optimal_threshold = minThresh\n",
    "cost_at_optimal_threshold = minCost"
   ]
  },
  {
   "cell_type": "markdown",
   "id": "f74672e0",
   "metadata": {},
   "source": [
    "### 6)\n",
    "\n",
    "With your newly computed threshold value, compute the cost of putting this model in production by computing the cost using the validation data. Also provide a confidence interval of the cost using Hoeffdings inequality with a 95% confidence.\n",
    "\n",
    "### Answer\n",
    "We know that the upper bound for the cost function is $30$, that is, only false negatives. We calculate the epsilon with parameters \n",
    "\n",
    "$$n=|\\text{validation set}|, b=30, \\alpha = 0.05$$ \n",
    "\n",
    "We then use the confidence intervals function from utils to obtain the answer."
   ]
  },
  {
   "cell_type": "code",
   "execution_count": 7,
   "id": "62495130",
   "metadata": {},
   "outputs": [
    {
     "name": "stdout",
     "output_type": "stream",
     "text": [
      "[0.00,1.06]\n"
     ]
    }
   ],
   "source": [
    "cost_at_optimal_threshold_validation = cost(model,minThresh,X_valid,Y_valid)\n",
    "# Report the cost interval as a tuple cost_interval = (a,b)\n",
    "\n",
    "from Utils import print_confidence_interval, epsilon_bounded, bennett_epsilon\n",
    "\n",
    "eps = epsilon_bounded(len(Y_valid), 30, 0.05)\n",
    "print_confidence_interval(cost_at_optimal_threshold_validation,eps,min_value=0,max_value=30)\n",
    "\n",
    "cost_interval = (0.00, 1.06)"
   ]
  },
  {
   "cell_type": "markdown",
   "id": "d1baa7dc",
   "metadata": {},
   "source": [
    "### 7)\n",
    "\n",
    "Let $t$ be the threshold you found and $f$ the model you fitted, if we define the random variable\n",
    "$$\n",
    "    C = 30(1-1_{f(X)\\geq t})Y+5(1-Y)1_{f(X) \\geq t}\n",
    "$$\n",
    "then $C$ denotes the cost of a randomly chosen patient. In the above we are estimating $\\mathbb{E}[C]$ using the empirical mean. However, since the number of calcifications in the population is fairly small and our classifier probably has a fairly high precision for the $0$ class, then $C$ should have fairly small variance. Compute the empirical variance of $C$ on the validation set. What would be the confidence interval if we used Bennett's inequality instead of Hoeffding in point 6 but with the computed empirical variance as our guess for the variance?\n",
    "\n",
    "### Answer\n",
    "\n",
    "Recall the formula for sample variance\n",
    "\n",
    "$$\n",
    "s^2 = \\frac{\\sum (X-\\overline{X})^2}{n-1}\n",
    "$$\n",
    "\n",
    "We redefine the cost function to obtain the sample variance, then use the `bennet_epsilon`  function with\n",
    "\n",
    "$$\n",
    "n = |\\text{validation set}|, b=30, \\sigma = \\sqrt{s^2}, \\alpha = 0.05\n",
    "$$"
   ]
  },
  {
   "cell_type": "code",
   "execution_count": 8,
   "id": "0e79ec0e",
   "metadata": {},
   "outputs": [
    {
     "name": "stdout",
     "output_type": "stream",
     "text": [
      "Numerical error 1.0408340855860843e-17\n",
      "[0.15,0.43]\n"
     ]
    }
   ],
   "source": [
    "def costVariance(model,threshold,X,Y):\n",
    "    pred_proba = model.predict_proba(X)[:,1]\n",
    "    predictions = (pred_proba >= threshold)*1\n",
    "    \n",
    "    Yp = predictions\n",
    "    \n",
    "    E_1 = Y * (1-Yp)\n",
    "    E_2 = (1-Y) * Yp\n",
    "    \n",
    "    costs = E_1*30 + E_2*5\n",
    "    mean = np.mean(costs)\n",
    "    varSum = np.sum(np.power(costs-mean,2))\n",
    "    nMin1 = len(Y)-1\n",
    "    \n",
    "    return varSum/nMin1\n",
    "\n",
    "variance_of_C = costVariance(model,optimal_threshold,X_valid,Y_valid)\n",
    "\n",
    "# A 95% confidence interval of the random variable C using Bennett's inequality\n",
    "bennyEps = bennett_epsilon(len(Y_valid), 30,np.sqrt(variance_of_C), 0.05)\n",
    "print_confidence_interval(cost_at_optimal_threshold_validation,bennyEps,min_value=0,max_value=30)\n",
    "interval_of_C = (0.15, 0.43)"
   ]
  }
 ],
 "metadata": {
  "kernelspec": {
   "display_name": "Python 3 (ipykernel)",
   "language": "python",
   "name": "python3"
  },
  "language_info": {
   "codemirror_mode": {
    "name": "ipython",
    "version": 3
   },
   "file_extension": ".py",
   "mimetype": "text/x-python",
   "name": "python",
   "nbconvert_exporter": "python",
   "pygments_lexer": "ipython3",
   "version": "3.9.13"
  }
 },
 "nbformat": 4,
 "nbformat_minor": 5
}
