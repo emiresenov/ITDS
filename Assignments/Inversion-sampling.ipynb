{
 "cells": [
  {
   "cell_type": "markdown",
   "id": "867cefee",
   "metadata": {},
   "source": [
    "## Exam vB, PROBLEM 2\n",
    "\n",
    "In many areas of data science and machine learning we need to produce random samples in different ways. This can be done to compute difficult integrals or validate algorithms. \n",
    "\n",
    "1. [2p] Produce 1000 samples from the distribution below using inversion sampling\n",
    "$$\n",
    "    F[x] = \n",
    "    \\begin{cases}\n",
    "        0, & x \\leq 0 \\\\\n",
    "        \\sin(x), & 0 < x < \\pi/2 \\\\\n",
    "        1, & x \\geq \\pi/2\n",
    "    \\end{cases}\n",
    "$$\n",
    "and show your result with a histogram \"You can use sagemath function `histogram`, or `matplotlib.pyplot` `hist`\". Also what is the true density? Provide a plot of the true density between 0 and $\\pi/2$."
   ]
  },
  {
   "cell_type": "markdown",
   "id": "0b9880b4",
   "metadata": {},
   "source": [
    "### Answer\n",
    "\n",
    "We all already given the CDF as $F[x]$, so for inversion sampling we only need to compute\n",
    "\n",
    "$$\n",
    "F^{-1}(U) = sin^{-1}(U), U \\sim Unif(0,1).\n",
    "$$\n",
    "\n",
    "The true density can be derived from the CDF. We know that for a PDF $f$ and a CDF $F$\n",
    "\n",
    "$$\n",
    "F(x) = P(X\\leq x) = \\int_{-\\infty}^x f(t) \\; dt, \\quad x \\in \\mathbb{R} \n",
    "$$\n",
    "\n",
    "and consequently\n",
    "\n",
    "$$\n",
    "f(x) = \\frac{d}{fx} F(x) = \\begin{cases} cos(x), \\quad 0 < x < \\pi/2 \\\\ 0 \\quad \\quad \\quad \\; \\text{elsewhere} \\end{cases}\n",
    "$$"
   ]
  },
  {
   "cell_type": "code",
   "execution_count": 1,
   "id": "50c0a9b5",
   "metadata": {},
   "outputs": [
    {
     "data": {
      "image/png": "[encoded data removed]",
      "text/plain": [
       "<Figure size 640x480 with 1 Axes>"
      ]
     },
     "metadata": {},
     "output_type": "display_data"
    }
   ],
   "source": [
    "# put your samples in the variable samples\n",
    "import numpy as np\n",
    "import matplotlib.pyplot as plt\n",
    "\n",
    "U = np.random.uniform(low=0, high=1, size=(1000,))\n",
    "X = [np.arcsin(i) for i in U]\n",
    "\n",
    "plt.hist(X,density=True,bins=10)\n",
    "\n",
    "z = np.linspace(0,np.pi/2,100)\n",
    "plt.plot(z,np.cos(z))\n",
    "\n",
    "plt.show()\n",
    "#samples = X"
   ]
  },
  {
   "cell_type": "markdown",
   "id": "a48cc5e2",
   "metadata": {},
   "source": [
    "### 2)\n",
    "Consider a random variable $X \\sim F$ sampled from distribution $F$. Your goal is to estimate $E[X]$. Do this by producing 1000 different experiments, each sampling 1000 samples from $X$ and compute the empirical mean. Provide the $0.025$ and the $0.975$ quantile of the experiments."
   ]
  },
  {
   "cell_type": "markdown",
   "id": "3015ee07",
   "metadata": {},
   "source": [
    "### Test quantiles function on Gaussian distribution "
   ]
  },
  {
   "cell_type": "code",
   "execution_count": 2,
   "id": "34146a4c",
   "metadata": {},
   "outputs": [
    {
     "name": "stdout",
     "output_type": "stream",
     "text": [
      "-1.985160377841166 1.9718003844814016\n"
     ]
    }
   ],
   "source": [
    "testy = np.random.normal(0, 1, 100000)\n",
    "testQuantile = np.quantile(testy, 0.025)\n",
    "testQuantile2 = np.quantile(testy, 0.975)\n",
    "print(testQuantile, testQuantile2)"
   ]
  },
  {
   "cell_type": "markdown",
   "id": "9b8600e1",
   "metadata": {},
   "source": [
    "### Answer"
   ]
  },
  {
   "cell_type": "code",
   "execution_count": 3,
   "id": "e6efd256",
   "metadata": {},
   "outputs": [
    {
     "name": "stdout",
     "output_type": "stream",
     "text": [
      "0.5463255071202102 0.5940593422989273\n"
     ]
    }
   ],
   "source": [
    "# Produce 1000 experiments, in which each experiment you draw\n",
    "# 1000 samples from F. Store the value of the empirical mean of each\n",
    "# experiment and compute the 0.025 and the 0.975 quantiles\n",
    "\n",
    "def meanFunction():\n",
    "    U = np.random.uniform(low=0, high=1, size=(1000,))\n",
    "    X = [np.arcsin(i) for i in U]\n",
    "    return np.mean(X)\n",
    "\n",
    "means = [meanFunction() for i in range(1000)]\n",
    "quantile_0025 = np.quantile(means, 0.025)\n",
    "quantile_0975 = np.quantile(means, 0.975)\n",
    "print(quantile_0025,quantile_0975)"
   ]
  },
  {
   "cell_type": "markdown",
   "id": "f86e773a",
   "metadata": {},
   "source": [
    "### 3)\n",
    "\n",
    "Use Hoeffdings inequality to produce a 95% confidence interval for the estimated mean above"
   ]
  },
  {
   "cell_type": "code",
   "execution_count": 4,
   "id": "623d122d",
   "metadata": {},
   "outputs": [
    {
     "name": "stdout",
     "output_type": "stream",
     "text": [
      "[0.55,0.59]\n",
      "Confidence interval around the mean is [0.55,0.59]\n"
     ]
    }
   ],
   "source": [
    "# Put your interval in the form\n",
    "from Utils import print_confidence_interval\n",
    "\n",
    "def calcEpsilon(alpha,n):\n",
    "     return (1/np.sqrt(n))*np.sqrt((1/2)*np.log(2/(1-alpha)))\n",
    "\n",
    "eps = calcEpsilon(0.05,1000)\n",
    "print_confidence_interval(np.mean(means),eps)\n",
    "\n",
    "l_edge = 0.55 # The left edge of the interval\n",
    "r_edge = 0.59 # The right edge of the interval\n",
    "print(\"Confidence interval around the mean is [%.2f,%.2f]\" % (l_edge,r_edge))"
   ]
  }
 ],
 "metadata": {
  "kernelspec": {
   "display_name": "Python 3 (ipykernel)",
   "language": "python",
   "name": "python3"
  },
  "language_info": {
   "codemirror_mode": {
    "name": "ipython",
    "version": 3
   },
   "file_extension": ".py",
   "mimetype": "text/x-python",
   "name": "python",
   "nbconvert_exporter": "python",
   "pygments_lexer": "ipython3",
   "version": "3.9.13"
  }
 },
 "nbformat": 4,
 "nbformat_minor": 5
}
