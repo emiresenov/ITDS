{
 "cells": [
  {
   "cell_type": "markdown",
   "id": "f7286609",
   "metadata": {},
   "source": [
    "## Bash"
   ]
  },
  {
   "cell_type": "code",
   "execution_count": 1,
   "id": "292413f1",
   "metadata": {},
   "outputs": [
    {
     "name": "stdout",
     "output_type": "stream",
     "text": [
      "/Users/emiresenov/Documents/Masters/Intro to Data Science/Notebooks/first_lecture_and_data\n"
     ]
    }
   ],
   "source": [
    "%%sh \n",
    "pwd\n",
    "\n",
    "# Drop into bash using %%sh, (can't be a comment above or beside the magic command)\n",
    "\n",
    "# Regular unix cmds apply\n",
    "#ls\n",
    "#cd mydir\n",
    "#curl -O http://lamastex.org/datasets/public/SOU/sou/20170228.txt\n",
    "#ls\n",
    "#head 20170228.txt"
   ]
  },
  {
   "cell_type": "markdown",
   "id": "790ddde2",
   "metadata": {},
   "source": [
    "## Assignment 1, PROBLEM 2\n",
    "\n",
    "Evaluate the following cells by replacing X with the right command line option in order to find the first two lines of the csv file data/earthquakes.csv "
   ]
  },
  {
   "cell_type": "code",
   "execution_count": 2,
   "id": "090c61cb",
   "metadata": {},
   "outputs": [
    {
     "name": "stdout",
     "output_type": "stream",
     "text": [
      "publicid,eventtype,origintime,modificationtime,longitude, latitude, magnitude, depth,magnitudetype,depthtype,evaluationmethod,evaluationstatus,evaluationmode,earthmodel,usedphasecount,usedstationcount,magnitudestationcount,minimumdistance,azimuthalgap,originerror,magnitudeuncertainty\n",
      "2018p368955,,2018-05-17T12:19:35.516Z,2018-05-17T12:21:54.953Z,178.4653957,-37.51944533,2.209351541,20.9375,M,,NonLinLoc,,automatic,nz3drx,12,12,6,0.1363924727,261.0977462,0.8209633086,0\n"
     ]
    }
   ],
   "source": [
    "%%sh\n",
    "head -2 data/earthquakes.csv"
   ]
  },
  {
   "cell_type": "code",
   "execution_count": 3,
   "id": "ac897bfc",
   "metadata": {},
   "outputs": [],
   "source": [
    "line_1_earthquakes = \"publicid,eventtype,origintime,modificationtime,longitude, latitude, magnitude, depth,magnitudetype,depthtype,evaluationmethod,evaluationstatus,evaluationmode,earthmodel,usedphasecount,usedstationcount,magnitudestationcount,minimumdistance,azimuthalgap,originerror,magnitudeuncertainty\"\n",
    "line_2_earthquakes = \"2018p368955,,2018-05-17T12:19:35.516Z,2018-05-17T12:21:54.953Z,178.4653957,-37.51944533,2.209351541,20.9375,M,,NonLinLoc,,automatic,nz3drx,12,12,6,0.1363924727,261.0977462,0.8209633086,0\""
   ]
  },
  {
   "cell_type": "markdown",
   "id": "3b044a42",
   "metadata": {},
   "source": [
    "# Assignment 1, PROBLEM 3\n",
    "\n",
    "In this assignment the goal is to parse the earthquakes.csv file from the previous problem.\n",
    "\n",
    "1. Read the file data/earthquakes.csv and parse it using the csv package and store the result as follows\n",
    "\n",
    "the header variable contains a list of names all as strings\n",
    "\n",
    "the data variable should be a list of lists containing all the rows of the csv file"
   ]
  },
  {
   "cell_type": "code",
   "execution_count": 4,
   "id": "3110cf59",
   "metadata": {},
   "outputs": [],
   "source": [
    "import csv\n",
    "\n",
    "header = []\n",
    "data = []\n",
    "with open('data/earthquakes.csv', mode='r') as f:\n",
    "    reader = csv.reader(f)\n",
    "    header = next(reader)\n",
    "    for line in reader:\n",
    "        data.append(line)\n",
    "\n",
    "#header\n",
    "#data"
   ]
  },
  {
   "cell_type": "markdown",
   "id": "aa6e3ff9",
   "metadata": {},
   "source": [
    "## Students passing exam (Sample exam problem)\n",
    "Let's say we have an exam question which consists of $20$ yes/no questions. \n",
    "From past performance of similar students, a randomly chosen student will know the correct answer to $N \\sim \\text{binom}(20,11/20)$ questions. Furthermore, we assume that the student will guess the answer with equal probability to each question they don't know the answer to, i.e. given $N$ we define $Z \\sim \\text{binom}(20-N,1/2)$ as the number of correctly guessed answers. Define $Y = N + Z$, i.e., $Y$ represents the number of total correct answers.\n",
    "\n",
    "We are interested in setting a deterministic threshold $T$, i.e., we would pass a student at threshold $T$ if $Y \\geq T$. Here $T \\in \\{0,1,2,\\ldots,20\\}$.\n",
    "\n",
    "1. [5p] For each threshold $T$, compute the probability that the student *knows* less than $10$ correct answers given that the student passed, i.e., $N < 10$. Put the answer in `problem11_probabilities` as a list.\n",
    "2. [3p] What is the smallest value of $T$ such that if $Y \\geq T$ then we are 90\\% certain that $N \\geq 10$?"
   ]
  },
  {
   "cell_type": "code",
   "execution_count": 5,
   "id": "91a06d7a",
   "metadata": {},
   "outputs": [],
   "source": [
    "from scipy.special import binom as binomial\n",
    "p = 11/20\n",
    "p_N = lambda k: binomial(20,k)*((1-p)**(20-k))*(p**k)"
   ]
  },
  {
   "cell_type": "markdown",
   "id": "345e1e7d",
   "metadata": {},
   "source": [
    "# Answer\n",
    "\n",
    "## 1)\n",
    "We solve this problem with the conditional probability formula $$P(A|B)=\\frac{A \\cap B}{B},$$\n",
    "\n",
    "where $A = N < 10, \\text{and} \\: B = (N \\cap Z) \\geq T$. \n",
    "\n",
    "This follows the reasoning that the conditional probability that we want to find, i.e. that a student knows $N<10$ correct answers and guesses the remaining ones to pass the threshold ($N \\cap Z) \\geq T$.\n",
    "\n",
    "The question posed as a conditional probability can thus be expressed as $$P(N<10 | (N\\cap Z) \\geq T) = \\frac{N < 10 \\cap (N \\cap Z) \\geq T}{(N \\cap Z) \\geq T}$$"
   ]
  },
  {
   "cell_type": "code",
   "execution_count": 6,
   "id": "a22b692f",
   "metadata": {},
   "outputs": [],
   "source": [
    "# Define p(Z) function\n",
    "p_Z = lambda j,k: binomial(j,k)*((0.5)**(j-k)*(0.5**k))\n",
    "\n",
    "# P(N < 10 and (N and Z) >= T) for a given T\n",
    "def AnB(t):\n",
    "    prob=0\n",
    "    for i in range(10): # i = known answers\n",
    "        pn = p_N(i)\n",
    "        \n",
    "        '''\n",
    "        Idea: with i correct answers, figure out the probability that we guess the \n",
    "        remaining ones. This occurs for all cases where guesses + correct answers \n",
    "        exceed threshold, i.e. for 9 correct answers with threshold = 10, all cases \n",
    "        where we guess 1 up to 11 correct have to be factored into the probability. \n",
    "        - If the threshold is higher than or equal to i, then we have to start \n",
    "          counting guesses from t-i up to 20-i (21-i in range function, non-inclusive).\n",
    "        - If the threshold is lower than i, then we just start counting guesses from\n",
    "          0 up to 20-i.\n",
    "        '''\n",
    "        for j in range(max(0,t-i),21-i): # j = correctly guessed answers\n",
    "            prob += pn*p_Z(20-i,j)\n",
    "    return prob \n",
    "\n",
    "# B = P(N and Z >= T)\n",
    "def B(t):\n",
    "    prob=0\n",
    "    # i = known answers\n",
    "    for i in range(21):\n",
    "        pn = p_N(i)\n",
    "        # j = correctly guessed answers\n",
    "        for j in range(max(0,t-i),21-i):\n",
    "            prob += pn*p_Z(20-i,j)\n",
    "    return prob\n",
    "\n",
    "# P(A | B) = (A and B) / B\n",
    "problem11_probabilities = [AnB(i)/B(i) for i in range(21)]"
   ]
  },
  {
   "cell_type": "markdown",
   "id": "d9bebc42",
   "metadata": {},
   "source": [
    "## Code reduction\n",
    "\n",
    "We can view the above two functions as the function of passing the threshold $t$ with the given conditions. Thus, we can reduce the amount of repeated code by merging them."
   ]
  },
  {
   "cell_type": "code",
   "execution_count": 7,
   "id": "c79a95ff",
   "metadata": {},
   "outputs": [],
   "source": [
    "# Probability of passing threshold t with a bounded N\n",
    "def pThresh(maxN, t):\n",
    "    prob=0\n",
    "    # i = known answers\n",
    "    for i in range(maxN):\n",
    "        pn = p_N(i)\n",
    "        # j = correctly guessed answers\n",
    "        for j in range(max(0,t-i),21-i):\n",
    "            prob += pn*p_Z(20-i,j)\n",
    "    return prob\n",
    "\n",
    "# P(A | B) = (A and B) / B\n",
    "problem11_probabilities = [pThresh(10,i)/pThresh(21,i) for i in range(21)]"
   ]
  },
  {
   "cell_type": "code",
   "execution_count": 9,
   "id": "63509823",
   "metadata": {},
   "outputs": [
    {
     "data": {
      "text/plain": [
       "17"
      ]
     },
     "execution_count": 9,
     "metadata": {},
     "output_type": "execute_result"
    }
   ],
   "source": [
    "# Part 2: Give an integer between 0 and 20 which is the answer to 2.\n",
    "problem12_T = 0\n",
    "for i in range(len(problem11_probabilities)):\n",
    "    if (problem11_probabilities[i] < 0.10):\n",
    "        problem12_T = i\n",
    "        break\n",
    "\n",
    "problem12_T"
   ]
  },
  {
   "cell_type": "markdown",
   "id": "cb11494f",
   "metadata": {},
   "source": [
    "## Concentration of measure (Sample exam problem)\n",
    "\n",
    "As you recall, we said that concentration of measure was simply the phenomenon where we expect that the probability of a large deviation of some quantity becoming smaller as we observe more samples: [0.4 points per correct answer]\n",
    "\n",
    "1. Which of the following will exponentially concentrate, i.e. for some $C_1,C_2,C_3,C_4 $ \n",
    "$$\n",
    "    P(Z - \\mathbb{E}[Z] \\geq \\epsilon) \\leq C_1 e^{-C_2 n \\epsilon^2} \\wedge C_3 e^{-C_4 n (\\epsilon+1)} \\enspace .\n",
    "$$\n",
    "\n",
    "    1. The empirical mean of i.i.d. sub-Gaussian random variables?\n",
    "    2. The empirical mean of i.i.d. sub-Exponential random variables?\n",
    "    3. The empirical mean of i.i.d. random variables with finite variance?\n",
    "    4. The empirical variance of i.i.d. random variables with finite variance?\n",
    "    5. The empirical variance of i.i.d. sub-Gaussian random variables?\n",
    "    6. The empirical variance of i.i.d. sub-Exponential random variables?\n",
    "    7. The empirical third moment of i.i.d. sub-Gaussian random variables?\n",
    "    8. The empirical fourth moment of i.i.d. sub-Gaussian random variables?\n",
    "    9. The empirical mean of i.i.d. deterministic random variables?\n",
    "    10. The empirical tenth moment of i.i.d. Bernoulli random variables?\n",
    "\n",
    "2. Which of the above will concentrate in the weaker sense, that for some $C_1$\n",
    "$$\n",
    "    P(Z - \\mathbb{E}[Z] \\geq \\epsilon) \\leq \\frac{C_1}{n \\epsilon^2}?\n",
    "$$"
   ]
  },
  {
   "cell_type": "code",
   "execution_count": 8,
   "id": "e4559028",
   "metadata": {},
   "outputs": [],
   "source": [
    "problem3_answer_1 = [1,2,5,9,10]\n",
    "problem3_answer_2 = [1,2,3,5,6,7,8,9,10]"
   ]
  }
 ],
 "metadata": {
  "kernelspec": {
   "display_name": "Python 3 (ipykernel)",
   "language": "python",
   "name": "python3"
  },
  "language_info": {
   "codemirror_mode": {
    "name": "ipython",
    "version": 3
   },
   "file_extension": ".py",
   "mimetype": "text/x-python",
   "name": "python",
   "nbconvert_exporter": "python",
   "pygments_lexer": "ipython3",
   "version": "3.9.13"
  }
 },
 "nbformat": 4,
 "nbformat_minor": 5
}
